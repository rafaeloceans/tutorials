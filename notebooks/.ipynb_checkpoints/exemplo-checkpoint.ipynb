{
 "cells": [
  {
   "cell_type": "code",
   "execution_count": null,
   "metadata": {},
   "outputs": [],
   "source": [
    "<h2 style=\"text-align: left; color: SlateGray;\\\" markdown=\"3\">Pós-Graduação em Sensoriamento Remoto (Mestrado)<br>\n",
    "SER-347 - Introdução à Programação para Sensoriamento Remoto<br>\n",
    "Trabalho de Conclusão de Disciplina</h2>\n",
    "<hr style=\\\"border:2px solid #0077b9;\\\">\n",
    "<h2 style=\"text-align: center; font-variant: small-caps;\">Análise da variabilidade espaço-temporal do fenômeno de ilhas\n",
    "de calor urbano na cidade de Fortaleza/CE</h2>\n",
    "\n",
    "<p style=\"text-align: center;\">Marcelo Cardoso da Silva Bandoria¹, Rafael Duarte Viana¹</p>\n",
    "\n",
    "<p style=\"text-align: center;\">¹Instituto Nacional de Pesquisas Espaciais - INPE<br/>\n",
    "Caixa Postal 515 - 12227-010 - São José dos Campos - SP, Brasil<br/>\n",
    "{marcelo.bandoria,rafael.viana}@inpe.br</p>"
   ]
  },
  {
   "cell_type": "code",
   "execution_count": null,
   "metadata": {},
   "outputs": [],
   "source": [
    "### 1. INTRODUÇÃO\n",
    "<p style=\"text-align: justify;\">Nas últimas décadas, o rápido crescimento das cidades, em diversas escalas trouxeram efeitos adversos ao ambiente como um todo, sobretudo ao microclima, e diversas consequências e efeitos diretos na saúde, podem estar associados também a essa variação, afetando a população que vive em áreas densamente povoadas. Dentre tantos problemas, destacamos o chamado efeito de “ilha de calor urbana” (UHI – Urban Heat Islands Effects), que pode ser descrito como um fenômeno em que as temperaturas nas áreas urbanas são mais altas do que nas áreas rurais próximas.</p>\n",
    "<p style=\"text-align: justify;\">&nbsp;&nbsp;&nbsp;&nbsp;A possibilidade de estudar tal fenômeno baseado em sensoriamento remoto revelou bons resultados pois as “ilhas de calor” (UHI) que possui propriedades diurnas e sazonais evidentes, assim baseado em temperaturas de superfície terrestre (LST – Land Surface Temperature) derivados de dados NOAA AVHRR, Streutker (2002) e recentemente MODIS, descobriu-se que o a magnitude do (UHI) noturno no Texas, Houston, foi correlacionada com a temperatura da superfície rural (RST). (Ji Zhou, et.al, 2010) ; (LI et al., 2018).</p>\n",
    "<p style=\"text-align: justify;\">&nbsp;&nbsp;&nbsp;&nbsp;No entanto, diferenças nos resultados, foram apontadas quando o número de imagens foi aumentado nas análises. Dessa forma surge a necessidade de se utilizar grandes quantidades de informações espaço-temporais para verificar a distribuição da temperatura na superfície e seu comportamento durante certo intervalo de tempo para atender a distribuição e comportamento da temperatura, associada a áreas de vegetação, para o planejamento urbano e o desenvolvimento administrativo dos recursos naturais e sociais da população.</p>\n",
    "<p style=\"text-align: justify;\">&nbsp;&nbsp;&nbsp;&nbsp;Diante disso o objetivo deste trabalho é apoiado na linguagem de programação Python e ferramentas associadas de computação, iniciar um levantamento no processo de investigação das relações entre o índice de ilhas de calor (UHI) e seu comportamento na área metropolitana de Fortaleza – CE, por meio da obtenção de dados do sensor (MODIS – Moderate Resolution Imaging Spectroradiometer) desenvolvido pela NASA abordo dos satélites AQUA e TERRA. Na discussão da literatura foi visto que sua capacidade de resolução e associada a necessidade de obtermos dados diários, melhora significativamente a investição do fenômeno, por meio da correlação da temperatura de áreas urbanas e rurais, derivadas da série temporal Terra/Aqua MODIS data durante o período de 2003 até 2012, correlacionando dados de diuturnamente e comparando-os para obtenção da variação do efeito da ilha de calor. Sabemos que as dificuldades em realizar estudos temporais em SIG’s limitam a obtenção de resultados, desta forma a utilização de Python representa uma saída possível para gerenciar e agilizar a organização dos dados e obtenção de resultados.</p>\n",
    "<p style=\"text-align: justify;\">&nbsp;&nbsp;&nbsp;&nbsp;Em diversos estudos evidencia-se que obter a variação sazonal desse parâmetro de temperatura, cruzando com dados de vegetação em escala adequada pode ser uma ferramenta poderosa para a tomada de decisão no desenvolvimento territorial, podendo ser referência para políticas públicas e de administração de governos municipais e estaduais em diversas cidades, portanto, os resultados servem para a tomada de decisão e afeta diretamente na vida da população em diversos aspectos da saúde e qualidade de vida em geral.<p>"
   ]
  },
  {
   "cell_type": "code",
   "execution_count": 129,
   "metadata": {},
   "outputs": [
    {
     "data": {
      "text/html": [
       "<script>\n",
       "code_show=true; \n",
       "function code_toggle() {\n",
       " if (code_show){\n",
       " $('div.input').hide();\n",
       " } else {\n",
       " $('div.input').show();\n",
       " }\n",
       " code_show = !code_show\n",
       "} \n",
       "$( document ).ready(code_toggle);\n",
       "</script>\n",
       "<form action=\"javascript:code_toggle()\"><input type=\"submit\" value=\"Clique aqui para mostrar/ocultar o código Python.\"></form>"
      ],
      "text/plain": [
       "<IPython.core.display.HTML object>"
      ]
     },
     "execution_count": 129,
     "metadata": {},
     "output_type": "execute_result"
    }
   ],
   "source": [
    "from IPython.display import HTML\n",
    "\n",
    "HTML('''<script>\n",
    "code_show=true; \n",
    "function code_toggle() {\n",
    " if (code_show){\n",
    " $('div.input').hide();\n",
    " } else {\n",
    " $('div.input').show();\n",
    " }\n",
    " code_show = !code_show\n",
    "} \n",
    "$( document ).ready(code_toggle);\n",
    "</script>\n",
    "<form action=\"javascript:code_toggle()\"><input type=\"submit\" value=\"Clique aqui para mostrar/ocultar o código Python.\"></form>''')"
   ]
  },
  {
   "cell_type": "markdown",
   "metadata": {},
   "source": [
    "### 2. DADOS E MÉTODOS\n",
    "\n",
    "### 2.1 Área de Estudo\n",
    "\n",
    "<p style=\"text-align: justify;\">&nbsp;&nbsp;&nbsp;&nbsp;A primeira parte do trabalho se constituiu na organização dos pacotes e dos diretórios onde seriam armazenados os dados, as figuras e os resultados. A Tabela 1 indica quais pacotes foram utilizados para todo o programa.<p>\n",
    "\n",
    "<table>\n",
    "     <caption  style=\"text-align: center;\">Tabela 1: Pacotes Python utilizados no programa</caption>\n",
    "    <thead>\n",
    "        <tr>\n",
    "            <th style=\"text-align: center;\">Tipo do Pacote</th>\n",
    "            <th style=\"text-align: center;\">Sist. Oper.</th>\n",
    "            <th style=\"text-align: center;\">Numérica</th>\n",
    "            <th style=\"text-align: center;\">Espaciais</th>            \n",
    "            <th style=\"text-align: center;\">Gráficas</th>\n",
    "            <th style=\"text-align: center;\">Utilidades</th>            \n",
    "        </tr>\n",
    "    </thead>\n",
    "    <tbody>\n",
    "        <tr>\n",
    "            <td style=\"text-align: center;\">Nome do Pacote</td>\n",
    "            <td style=\"text-align: center;\">os<br />calendar</td>\n",
    "            <td style=\"text-align: center;\">Numpy<br />Pandas<br />SciPy</td>\n",
    "            <td style=\"text-align: center;\">GDAL<br />PyPROJ<br />Fiona</td>\n",
    "            <td style=\"text-align: center;\">MatPlotLib<br />descartes</td>\n",
    "            <td style=\"text-align: center;\">PyMODIS</td>\n",
    "        </tr>\n",
    "    </tbody>\n",
    "</table>"
   ]
  },
  {
   "cell_type": "code",
   "execution_count": 60,
   "metadata": {},
   "outputs": [],
   "source": [
    "\"\"\"-------------------------------------------------------------\n",
    "    IMPORTAÇÃO DE BIBLIOTECAS\n",
    "-------------------------------------------------------------\"\"\"\n",
    "# Bibliotecas OS\n",
    "import os\n",
    "import calendar\n",
    "\n",
    "# Bibliotecas Numéricas\n",
    "import numpy as np\n",
    "import pandas as pd\n",
    "from collections import OrderedDict\n",
    "from scipy.ndimage import zoom\n",
    "\n",
    "# Bibliotecas Geográficas\n",
    "from osgeo import gdal\n",
    "from pyproj import Proj, transform\n",
    "import fiona\n",
    "\n",
    "# Bibliotecas Gráficas\n",
    "import matplotlib.pyplot as plt\n",
    "from descartes import PolygonPatch\n",
    "\n",
    "# Bibliotecas Extras\n",
    "from pymodis import downmodis\n",
    "\n",
    "\"\"\"-------------------------------------------------------------\n",
    "    CONFIGURAÇÃO DOS DIRETÓRIOS DE TRABALHO\n",
    "-------------------------------------------------------------\"\"\"\n",
    "# Adquire o diretório onde o notebook está armazenado\n",
    "BASE_DIR = os.getcwd()\n",
    "# Cria o caminho para armazenar os dados, as figuras e os resultados\n",
    "DATA_DIR = os.path.join(BASE_DIR,'data')\n",
    "IMGS_DIR = os.path.join(BASE_DIR,'imgs')\n",
    "RESU_DIR = os.path.join(BASE_DIR,'output')"
   ]
  },
  {
   "cell_type": "markdown",
   "metadata": {
    "collapsed": true
   },
   "source": [
    "<p style=\"text-align: justify;\">&nbsp;&nbsp;&nbsp;&nbsp;A área de estudo corresponde ao município de Fortaleza, estado do Ceará, localizada na região do nordeste brasileiro com coordenadas geográficas variando entre 3°43′S à 3°56′S e 38°22′W à 38°32′W. Ela possui clima tropical, com verão úmido e inverno seco, e é classificada como Aw de acordo com a classificação climática de Köppen e Geiger. A sua temperatura média anual em Fortaleza é 26.3 °C e pluviosidade média anual de 1448 mm. No mês de Novembro há o registro do mês mais quente do ano e Julho é o mês com a mais baixa temperatura ao longo do ano.<p>\n",
    "\n",
    "<!-- Para ser visualizado na tela\n",
    "<figure>\n",
    "   <img src=\"imgs/area/fortaleza.jpg\" alt=\"Fortaleza-CE\" width=\"640\">\n",
    "   <figcaption style=\"text-align: center;\">Fig 1. - Uma visão da área de Fortaleza/CE.</figcaption>\n",
    "</figure> \n",
    " -->\n",
    "\n",
    "![Alt text](https://github.com/ocn-rviana/suhi-ser347/blob/master/imgs/area/fortaleza.jpg?raw=True)"
   ]
  },
  {
   "cell_type": "markdown",
   "metadata": {},
   "source": [
    "<p style=\"text-align: justify;\">&nbsp;&nbsp;&nbsp;&nbsp;Neste estudo, a análise será realizada sobre uma grade de 0.4° X 0.4° que engloba a região da área do município e vizinhanças. A escolha é parcialmente porque este recorte inclui um número adequado de pixels correspondente a área urbana e cobertura predominante nos entornos do município. Os pixels correspondentes a água foram excluídos da análise. O período de análise será de janeiro de 2003 à dezembro de 2012, constituindo uma série temporal de 10 anos.</p>"
   ]
  },
  {
   "cell_type": "code",
   "execution_count": 76,
   "metadata": {
    "collapsed": true
   },
   "outputs": [],
   "source": [
    "\"\"\"-------------------------------------------------------------\n",
    "    CONFIGURAÇÃO DO RECORTE ESPACIAL\n",
    "-------------------------------------------------------------\"\"\"\n",
    "# Configuração do recorte espacial da análise\n",
    "lat_max = -3.6\n",
    "lat_min = lat_max - 0.4\n",
    "lon_min = -38.75\n",
    "lon_max = lon_min + 0.4\n",
    "\n",
    "\"\"\"-------------------------------------------------------------\n",
    "    CONFIGURAÇÃO DO RECORTE TEMPORAL\n",
    "-------------------------------------------------------------\"\"\"\n",
    "# Configuração do período temporal da análise\n",
    "# Para ilustração em sala, será usado apenas o mês 09/2003\n",
    "mes_inicio  = 9\n",
    "ano_inicio  = 2003\n",
    "mes_final   = 9\n",
    "ano_final   = 2003\n",
    "\n",
    "\"\"\"-------------------------------------------------------------\n",
    "    RECORTE DO SHAPEFILE DE FORTALEZA\n",
    "-------------------------------------------------------------\"\"\"\n",
    "with fiona.open(\"data/shapes/Ceara_Municipios.shp\", \"r\") as shapefile:\n",
    "    # Número de feições\n",
    "    for feature in shapefile:\n",
    "        if feature['properties']['NOMEMUNI'] == \"FORTALEZA\":\n",
    "            f = feature['geometry']\n",
    "shapefile.close()"
   ]
  },
  {
   "cell_type": "markdown",
   "metadata": {},
   "source": [
    "### 2.2 Dados\n",
    "\n",
    "##### (a) Dados de LST do MODIS\n",
    "\n",
    "<p style=\"text-align: justify;\">&nbsp;&nbsp;&nbsp;&nbsp;O instrumento MODIS está a bordo dos satélites Aqua e Terra. O satélite Terra adquire imagens às 10:30 e 22:30h no horário solar local, enquanto o satélite Aqua adquire imagens às 1:30 e 13:30h. Para este estudo, foram utilizados os produtos de 8-dias de LST/Emissividade do MODIS Terra/Aqua (MOD11A2 e MYD11A2, respectivamente) nas versões V006 durante o período entre 2003-2012 para caracterizar a SHUIs. A resolução da LST é de 1000m. As medidas utilizadas nesse estudo foram reamostradas para uma resolução de 500m, utilizando o método do vizinho mais próximo, e realizada uma média mensal dos valores. Apenas pixels adquiridos em dias de céu limpo foram utilizados.</p>"
   ]
  },
  {
   "cell_type": "code",
   "execution_count": 62,
   "metadata": {
    "collapsed": true
   },
   "outputs": [],
   "source": [
    "# Configuração dos satélites\n",
    "satelite = [\"terra\", \"aqua\"]\n",
    "# Período da análise\n",
    "periodo  = [\"day\" , \"night\"]"
   ]
  },
  {
   "cell_type": "markdown",
   "metadata": {},
   "source": [
    "O download dos arquivos de LST foi realizado automaticamente atráves do uso do pacote <b>PyMODIS</b>, utilizando a rotina 1: "
   ]
  },
  {
   "cell_type": "code",
   "execution_count": 63,
   "metadata": {},
   "outputs": [],
   "source": [
    "\"\"\"-------------------------------------------------------------\n",
    "    ROTINA 1: Download dos arquivos de LST\n",
    "-------------------------------------------------------------\"\"\"\n",
    "\n",
    "# Parâmetros para download do dado do MODIS\n",
    "# Cena que contêm o município de Fortaleza\n",
    "tiles = \"h14v09\"           \n",
    "# Lista com o produto, o satelite e a pasta onde está localizado os arquivos no ftp\n",
    "produto = [\"MOD11A2.006\",\"MYD11A2.006\"]\n",
    "pasta = ['MOLT','MOLA']\n",
    "# Faz a leitura do login e senha armazenado em um arquivo\n",
    "with open(\"data/login_senha.txt\") as f:\n",
    "    info = f.readlines()\n",
    "f.close()\n",
    "# Armazena as informações de usuario e senha\n",
    "usuario = info[0][:-1]\n",
    "senha = info[1][:-1]\n",
    "\n",
    "# Faz o download \n",
    "for year in range(ano_inicio, ano_final + 1):\n",
    "    for month in range(mes_inicio, mes_final + 1):\n",
    "        for i in range(0, 2):\n",
    "            dia_final   = \"%04d.%02d.%02d\" % (year, month, calendar.monthrange(year, month)[1])\n",
    "            dia_inicial = \"%04d.%02d.01\" % (year, month)\n",
    "\n",
    "            # Cria o diretório para armazenar as imagens\n",
    "            destino = os.path.join(BASE_DIR,\"data/lst/%s/%04d/%02d\" % (satelite[i],year,month))\n",
    "\n",
    "            if not os.path.isdir(destino):\n",
    "                os.makedirs(destino)\n",
    "\n",
    "            # Cria uma classe de download do MODIS, conecta e faz o download\n",
    "            modis_down = downmodis.downModis(password=senha, user=usuario, destinationFolder=destino, path=pasta[i], tiles=tiles, today=dia_final, enddate=dia_inicial, product=produto[i])\n",
    "            modis_down.connect()\n",
    "            modis_down.downloadsAllDay()"
   ]
  },
  {
   "cell_type": "markdown",
   "metadata": {},
   "source": [
    "##### (b) Dados de Cobertura de Solo do MODIS\n",
    "\n",
    "<p style=\"text-align: justify;\">&nbsp;&nbsp;&nbsp;&nbsp;Dados anuais de cobertura de solo também são disponibilizados como um produto do MODIS (MCD12Q1, versão V006), com resolução espacial de 500m, e serão utilizados neste trabalho para identificação de pixels urbanos e rurais. O produto utiliza uma classificação contento dezesseis tipos de cobertura de solo, conforme indicado na Tabela 2.</p>\n",
    "\n",
    "<table>\n",
    "     <caption  style=\"text-align: center;\">Tabela 2: Tipos de Cobertura de Solo</caption>\n",
    "    <thead>\n",
    "        <tr>\n",
    "            <th style=\"text-align: center;\">Número</th>\n",
    "            <th style=\"text-align: center;\">Tipo de Cobertura</th>\n",
    "        </tr>\n",
    "    </thead>\n",
    "    <tbody>\n",
    "        <tr><td style=\"text-align: center;\">1</td>\n",
    "            <td style=\"text-align: center;\">Floresta perene composta por vegetação acicufoliada</td></tr>\n",
    "        <tr><td style=\"text-align: center;\">2</td>\n",
    "            <td style=\"text-align: center;\">Floresta perene composta por vegetação latifoliada</td></tr>\n",
    "        <tr><td style=\"text-align: center;\">3</td>\n",
    "            <td style=\"text-align: center;\">Floresta decidual composta por vegetação acicufoliada</td></tr>\n",
    "        <tr><td style=\"text-align: center;\">4</td>\n",
    "            <td style=\"text-align: center;\">Floresta decidual composta por vegetação latifoliada</td></tr>\n",
    "        <tr><td style=\"text-align: center;\">5</td>\n",
    "            <td style=\"text-align: center;\">Floresta mista</td></tr>\n",
    "        <tr><td style=\"text-align: center;\">6</td>\n",
    "            <td style=\"text-align: center;\">Área composta por arbustos cujas copas se sobrepõem</td></tr>\n",
    "        <tr><td style=\"text-align: center;\">7</td>\n",
    "            <td style=\"text-align: center;\">Área composta por arbustos cujas copas não se sobrepõem</td></tr>\n",
    "        <tr><td style=\"text-align: center;\">8</td>\n",
    "            <td style=\"text-align: center;\">Savana arborizada</td></tr>\n",
    "        <tr><td style=\"text-align: center;\">9</td>\n",
    "            <td style=\"text-align: center;\">Savana (Pastagem)</td></tr>\n",
    "        <tr><td style=\"text-align: center;\">10</td>\n",
    "            <td style=\"text-align: center;\">Vegetação herbácea</td></tr>\n",
    "        <tr><td style=\"text-align: center;\">11</td>\n",
    "            <td style=\"text-align: center;\">Áreas úmidas permanentes</td></tr>\n",
    "        <tr><td style=\"text-align: center;\">12</td>\n",
    "            <td style=\"text-align: center;\">Terras agrícolas</td></tr>\n",
    "        <tr><td style=\"text-align: center;\">13</td>\n",
    "            <td style=\"text-align: center; color: red;\">Área Urbana</td></tr>\n",
    "        <tr><td style=\"text-align: center;\">14</td>\n",
    "            <td style=\"text-align: center;\">Terras cultivadas</td></tr>\n",
    "        <tr><td style=\"text-align: center;\">15</td>\n",
    "            <td style=\"text-align: center;\">Gelo e neve</td></tr>\n",
    "        <tr><td style=\"text-align: center;\">16</td>\n",
    "            <td style=\"text-align: center;\">Vegetação estéril ou escassa (solo exposto)</td></tr>\n",
    "        <tr><td style=\"text-align: center;\">17</td>\n",
    "            <td style=\"text-align: center;\">Água</td></tr>\n",
    "    </tbody>\n",
    "</table>"
   ]
  },
  {
   "cell_type": "markdown",
   "metadata": {},
   "source": [
    "O download dos arquivos de Cobertura de Solo, assim como para o LST, foi realizado automaticamente atráves do uso do pacote <b>PyMODIS</b>, utilizando a rotina 2: "
   ]
  },
  {
   "cell_type": "code",
   "execution_count": 33,
   "metadata": {},
   "outputs": [],
   "source": [
    "\"\"\"-------------------------------------------------------------\n",
    "    ROTINA 2: Download dos arquivos de LC (Cobertura de Solo)\n",
    "-------------------------------------------------------------\"\"\"\n",
    "\n",
    "# Parâmetros para download do dado do MODIS\n",
    "# Cena que contêm o município de Fortaleza\n",
    "tiles = \"h14v09\"           \n",
    "# Lista com o produto, o satelite e a pasta onde está localizado os arquivos no ftp\n",
    "produto = \"MCD12Q1.006\"\n",
    "pasta = \"MOTA\"\n",
    "# Faz a leitura do login e senha armazenado em um arquivo\n",
    "with open(\"data/login_senha.txt\") as f:\n",
    "    info = f.readlines()\n",
    "f.close()\n",
    "# Armazena as informações de usuario e senha\n",
    "usuario = info[0][:-1]\n",
    "senha = info[1][:-1]\n",
    "\n",
    "# Faz o download \n",
    "for year in range(ano_inicio, ano_final + 1):\n",
    "    for month in range(mes_inicio, mes_final + 1):\n",
    "        dia_final   = \"%04d.12.31\" % (year)\n",
    "        dia_inicial = \"%04d.01.01\" % (year)\n",
    "\n",
    "        # Cria o diretório para armazenar as imagens\n",
    "        destino = os.path.join(BASE_DIR,\"data/landcover\")\n",
    "\n",
    "        if not os.path.isdir(destino):\n",
    "            os.makedirs(destino)\n",
    "\n",
    "        # Cria uma classe de download do MODIS, conecta e faz o download\n",
    "        modis_down = downmodis.downModis(password=senha, user=usuario, destinationFolder=destino, path=pasta, tiles=tiles, today=dia_final, enddate=dia_inicial, product=produto)\n",
    "        modis_down.connect()\n",
    "        modis_down.downloadsAllDay()"
   ]
  },
  {
   "cell_type": "markdown",
   "metadata": {},
   "source": [
    "### 2.3 Método\n",
    "\n",
    "##### (a) Normalização dos dados de LST\n",
    "\n",
    "<p style=\"text-align: justify;\">&nbsp;&nbsp;&nbsp;&nbsp;Neste estudo, utilizaremos uma escala de razão normalizada (NRS, do inglês <em>normalized ratio scale</em>) que normaliza o valor de cada pixel baseado em uma razão para poder comparar imagens de LST obtidas em diferentes períodos, mantendo simultaneamente os seus valores originais. Esta técnica foi proposta por Rasul (2017) e compara o valor real de cada pixel com a cena inteira, então compara os valores de diferentes imagens. A equação é dada por:</p>\n",
    "\n",
    "\\begin{equation*} \n",
    "  LST_{NRS} = \\frac{(LST)}{\\sqrt{\\sum{(LST)^2}}}\n",
    "\\end{equation*}\n",
    "<br />\n",
    "<p style=\"text-align: justify;\">&nbsp;&nbsp;&nbsp;&nbsp;Para retornar aos valores originais de $LST$, multiplica-se $LST_{NRS}$ pelo resultado da equação:</p>\n",
    "<br />\n",
    "\\begin{equation*} \n",
    "  N = \\frac{média(LST)}{média(LST_{NRS})}\n",
    "\\end{equation*}\n",
    "<br />"
   ]
  },
  {
   "cell_type": "code",
   "execution_count": 99,
   "metadata": {
    "collapsed": true
   },
   "outputs": [],
   "source": [
    "def nrs_scale(original_lst, k):\n",
    "    # Constroi o denominador\n",
    "    square = original_lst ** 2\n",
    "    sum_square = np.nansum(square)\n",
    "    new_lst = original_lst / (sum_square ** 0.5)\n",
    "\n",
    "    if k == 0:\n",
    "        N = 25300\n",
    "    else:\n",
    "        N = 24100\n",
    "        \n",
    "    output_lst = N * new_lst\n",
    "\n",
    "    return output_lst"
   ]
  },
  {
   "cell_type": "markdown",
   "metadata": {},
   "source": [
    "##### (b) Cálculo do Índice de Ilha de Calor Urbano de Superfície (Skin UHI)\n",
    "\n",
    "<p style=\"text-align: justify;\">&nbsp;&nbsp;&nbsp;&nbsp;Neste estudo, utilizaremos o índice proposto por Jin (2012) para estimar a Ilha de Calor Urbano de Superfície, utilizando a equação:</p>\n",
    "<br />\n",
    "\\begin{equation*} \n",
    "  UHI_{skin} = T_{skin;u} - T_{skin;r(LC)}\n",
    "\\end{equation*}\n",
    "<br />\n",
    "<p style=\"text-align: justify;\">onde $UHI_{skin}$ é o índice de Ilha de Calor Urbano a nível de superfície (<em>skin</em>), $T_{skin;u}$ é a média da temperatura de todos os pixels urbanos para uma dada região, e $T_{skin;r(LC)}$ é a média da termperatura de superfície de todos os pixels rurais na região para uma cobertura de solo específica (LC). Normalmente, para ser consistente com o índice de UHI à 2m, a cobertura de terras cultivadas é selecionada quando disponível como área rural a ser comparada. Contudo, para algumas cidades, não há cobertura suficiente e entao é necessária que outro tipo de cobertura seja utilizado para o cálculo do índice.</p>"
   ]
  },
  {
   "cell_type": "code",
   "execution_count": 127,
   "metadata": {
    "collapsed": true
   },
   "outputs": [],
   "source": [
    "def suhi_index(lst_array, lc_array):\n",
    "    # Parâmetros de entrada:\n",
    "    # lst_array = matriz de formato (x,y) com valores de LST\n",
    "    # lc_array = matriz de formato (x,y) com valores de LC\n",
    "    \n",
    "    # Recorta os pixels que apresenta cobertura urbana (lc = 13)\n",
    "    index_urban = lc_array == 13\n",
    "    # Calcula a média dos valores desses pixels\n",
    "    mean_lst_urban = np.nanmean(lst_array[index_urban])\n",
    "\n",
    "    # Cria uma lista para armazenar cada valor de cobertura, removendo a área urbana\n",
    "    lc_types = [x for x in range(1,18)]\n",
    "    lc_types.remove(13)\n",
    "\n",
    "    # Inicializa uma lista vazia para armazenar os valores dos indices\n",
    "    suhi_value= []\n",
    "\n",
    "    # Para cada valor de cobertura do solo...\n",
    "    for lc in lc_types:\n",
    "        # ... Recorta os pixels daquela cobertura na área ...\n",
    "        index_urban = lc_array == lc\n",
    "        # ... Calcula a média da LST dos pixels ...\n",
    "        mean_lst_lc = np.nanmean(lst_array[index_urban])\n",
    "        # ... Calcula o índice SUHI ...\n",
    "        suhi = mean_lst_urban - mean_lst_lc\n",
    "        suhi_value.append(suhi)\n",
    "\n",
    "    return suhi_value"
   ]
  },
  {
   "cell_type": "markdown",
   "metadata": {},
   "source": [
    "##### (c) Armazenamento dos resultados\n",
    "\n",
    "<p style=\"text-align: justify;\">&nbsp;&nbsp;&nbsp;&nbsp;O programa então irá calcular valores mensais do $UHI_{skin}$, para o recorte temporal e espacial selecionado. Para armazernar os valores de SUHI, será utilizado um DataFrame. Então, será iniciado um objeto DataFrame vazio:</p>"
   ]
  },
  {
   "cell_type": "code",
   "execution_count": 119,
   "metadata": {},
   "outputs": [
    {
     "data": {
      "text/html": [
       "<div>\n",
       "<style scoped>\n",
       "    .dataframe tbody tr th:only-of-type {\n",
       "        vertical-align: middle;\n",
       "    }\n",
       "\n",
       "    .dataframe tbody tr th {\n",
       "        vertical-align: top;\n",
       "    }\n",
       "\n",
       "    .dataframe thead th {\n",
       "        text-align: right;\n",
       "    }\n",
       "</style>\n",
       "<table border=\"1\" class=\"dataframe\">\n",
       "  <thead>\n",
       "    <tr style=\"text-align: right;\">\n",
       "      <th></th>\n",
       "      <th>YEAR</th>\n",
       "      <th>MONTH</th>\n",
       "      <th>DAY</th>\n",
       "      <th>SATELLITE</th>\n",
       "      <th>PERIOD</th>\n",
       "      <th>LC_1</th>\n",
       "      <th>LC_2</th>\n",
       "      <th>LC_3</th>\n",
       "      <th>LC_4</th>\n",
       "      <th>LC_5</th>\n",
       "      <th>...</th>\n",
       "      <th>LC_7</th>\n",
       "      <th>LC_8</th>\n",
       "      <th>LC_9</th>\n",
       "      <th>LC_10</th>\n",
       "      <th>LC_11</th>\n",
       "      <th>LC_12</th>\n",
       "      <th>LC_14</th>\n",
       "      <th>LC_15</th>\n",
       "      <th>LC_16</th>\n",
       "      <th>LC_17</th>\n",
       "    </tr>\n",
       "  </thead>\n",
       "  <tbody>\n",
       "  </tbody>\n",
       "</table>\n",
       "<p>0 rows × 21 columns</p>\n",
       "</div>"
      ],
      "text/plain": [
       "Empty DataFrame\n",
       "Columns: [YEAR, MONTH, DAY, SATELLITE, PERIOD, LC_1, LC_2, LC_3, LC_4, LC_5, LC_6, LC_7, LC_8, LC_9, LC_10, LC_11, LC_12, LC_14, LC_15, LC_16, LC_17]\n",
       "Index: []\n",
       "\n",
       "[0 rows x 21 columns]"
      ]
     },
     "execution_count": 119,
     "metadata": {},
     "output_type": "execute_result"
    }
   ],
   "source": [
    "\"\"\"-------------------------------------------------------------\n",
    "    INICIALIZAÇÃO DE DATAFRAME PARA SUHI\n",
    "-------------------------------------------------------------\"\"\"\n",
    "DICT = {'YEAR':[], 'MONTH':[], 'DAY':[], 'SATELLITE':[], 'PERIOD':[],\n",
    "        'LC_1':[], 'LC_2':[], 'LC_3':[], 'LC_4':[], 'LC_5':[], 'LC_6':[],\n",
    "        'LC_7':[], 'LC_8':[], 'LC_9':[], 'LC_10':[], 'LC_11':[],\n",
    "        'LC_12':[], 'LC_14':[], 'LC_15':[], 'LC_16':[], 'LC_17':[],\n",
    "    }\n",
    "\n",
    "SUHI = pd.DataFrame(OrderedDict(DICT))\n",
    "# Indice do primeiro registro a ser adicionado no DF\n",
    "index_df = 0\n",
    "# Imprime o DF\n",
    "SUHI"
   ]
  },
  {
   "cell_type": "markdown",
   "metadata": {
    "collapsed": true
   },
   "source": [
    "<p style=\"text-align: justify;\">e a cada iteração do programa será adicionado uma nova linha contendo os índices para cada cobertura.</p>"
   ]
  },
  {
   "cell_type": "markdown",
   "metadata": {
    "collapsed": true
   },
   "source": [
    "### 2.4 Programa principal\n",
    "\n",
    "##### (a) Cobertura de Solo\n",
    "\n",
    "<p style=\"text-align: justify;\">&nbsp;&nbsp;&nbsp;&nbsp;Inicialmente se faz a leitura dos dados de Cobertura de Solo:</p>"
   ]
  },
  {
   "cell_type": "code",
   "execution_count": 34,
   "metadata": {},
   "outputs": [],
   "source": [
    "\"\"\"-------------------------------------------------------------\n",
    "    PROGRAMA PRINCIPAL\n",
    "-------------------------------------------------------------\"\"\"\n",
    "# Lê os arquivos de Cobertura de Solo e os organiza por lista\n",
    "MODIS_LC_FILES = os.listdir(path=os.path.join(DATA_DIR, 'landcover'))\n",
    "MODIS_LC_FILES.sort()\n",
    "\n",
    "# Procedimento para remover os arquivos que acompanharam os dados hdf de cobertura de solo\n",
    "COUNT_FILE = MODIS_LC_FILES.copy()\n",
    "for file in COUNT_FILE:\n",
    "    if file[-3:] != \"hdf\":\n",
    "        MODIS_LC_FILES.remove(file)"
   ]
  },
  {
   "cell_type": "markdown",
   "metadata": {},
   "source": [
    "<p style=\"text-align: justify;\">Para cada ano de dados de cobertura, é feito a leitura do raster e se obtêm a matriz de valores de cobertura de solo. A partir das informações geográficas do raster, é feita uma reprojeção do sistema de referência Sinusoidal para o sistema de referência WGS84. É feito então um recorte da área de estudo a partir do recorte espacial.</p>"
   ]
  },
  {
   "cell_type": "code",
   "execution_count": 18,
   "metadata": {},
   "outputs": [],
   "source": [
    "for file in MODIS_LC_FILES:\n",
    "    year = int(file[9:13])\n",
    "    \n",
    "    # Realiza a leitura da Cobertura de Solo\n",
    "    lc_fname = os.path.join(DATA_DIR, 'landcover', file)\n",
    "\n",
    "    # Abertura do raster de Cobertura do Solo\n",
    "    lc_raster = gdal.Open(gdal.Open(lc_fname, gdal.GA_ReadOnly).GetSubDatasets()[0][0], gdal.GA_ReadOnly)\n",
    "    # Obtẽm os valores numéricos do raster\n",
    "    lc_values = lc_raster.GetRasterBand(1).ReadAsArray()\n",
    "    \n",
    "    # Adquirindo as informações geográficas\n",
    "    geo_lc = lc_raster.GetGeoTransform()\n",
    "    latitude = geo_lc[3]        # latitude do canto superior esquerda\n",
    "    longitude = geo_lc[0]       # longitude do canto superior esquerda\n",
    "    resolucao = geo_lc[1]       # resolução do pixel\n",
    "\n",
    "    # Inicializa matrizes para armazerar as coordenadas sinusiodais\n",
    "    lon_sin = np.zeros((lc_raster.RasterXSize, lc_raster.RasterYSize))\n",
    "    lat_sin = np.zeros((lc_raster.RasterXSize, lc_raster.RasterYSize))\n",
    "\n",
    "    # Preenche a matriz com as coordenadas na projeção sinusiodal\n",
    "    for row in range(lc_raster.RasterYSize):\n",
    "        for col in range(lc_raster.RasterXSize):\n",
    "            lon_sin[row, col] = longitude + col * resolucao\n",
    "            lat_sin[row, col] = latitude - row * resolucao\n",
    "\n",
    "    # Realiza a transformação das coordenadas de sinusiodal --> wgs84\n",
    "    sinu = Proj(\"+proj=sinu +R=6371007.181 +nadgrids=@null +wktext\")\n",
    "    wgs84 = Proj(\"+init=EPSG:4326\")\n",
    "    lon_wgs,lat_wgs = transform(sinu,wgs84,lon_sin,lat_sin)\n",
    "\n",
    "    # Realiza um recorte nos dados de acordo com a latitude e longitude informada\n",
    "    ind = np.asarray(np.where((lat_wgs >= lat_min)\n",
    "                              & (lat_wgs <= lat_max)\n",
    "                              & (lon_wgs >= lon_min)\n",
    "                              & (lon_wgs <= lon_max)))\n",
    "    # Identifica os valores de max e min nas linhas e colunas, necessário para a criação da sub-matriz\n",
    "    row_min = np.amin(ind[0, :])\n",
    "    row_max = np.amax(ind[0, :]) + 1\n",
    "    col_min = np.amin(ind[1, :])\n",
    "    col_max = np.amax(ind[1, :]) + 1\n",
    "\n",
    "    indices = (row_min, row_max, col_min, col_max)\n",
    "\n",
    "    crop_lat_lc    = np.array(lat_wgs[row_min:row_max, col_min:col_max])\n",
    "    crop_lon_lc    = np.array(lon_wgs[row_min:row_max, col_min:col_max])\n",
    "    crop_values_lc = np.array(lc_values[row_min:row_max, col_min:col_max])\n"
   ]
  },
  {
   "cell_type": "markdown",
   "metadata": {},
   "source": [
    "<p style=\"text-align: justify;\">Uma vez realizada a transformação das coordenadas e o recorte, o dado de cobertura de solo pode ser visualizado.</p>"
   ]
  },
  {
   "cell_type": "code",
   "execution_count": 89,
   "metadata": {},
   "outputs": [
    {
     "data": {
      "image/png": "[encoded data removed]",
      "text/plain": [
       "<Figure size 936x720 with 2 Axes>"
      ]
     },
     "metadata": {},
     "output_type": "display_data"
    }
   ],
   "source": [
    "# Cria diretórios para armazenar a figura\n",
    "fig_dir   = os.path.join(IMGS_DIR,'landcover')\n",
    "fig_fname = os.path.join(fig_dir,'landcover_{}'.format(year))\n",
    "\n",
    "if not os.path.isdir(fig_dir):\n",
    "    os.makedirs(fig_dir)\n",
    "\n",
    "# Define um colormap discretizado\n",
    "cmap = plt.get_cmap('terrain_r', 17)\n",
    "# Extrai todas as cores do colormap para uma lista\n",
    "cmaplist = [cmap(i) for i in range(cmap.N)]\n",
    "# Força a entrada (12, área urbana) a ser vermelha\n",
    "cmaplist[12] = (1.0,0.0,0.0,1.0)\n",
    "# Cria um novo cmap\n",
    "cmap = cmap.from_list('Colormap customizado', cmaplist, cmap.N)\n",
    "\n",
    "fig = plt.figure(figsize=(13, 10))\n",
    "ax = fig.add_subplot(111)\n",
    "plt.pcolormesh(crop_lon_lc, crop_lat_lc, crop_values_lc, cmap=cmap, vmin = 0.5, vmax = 17 + 0.5)\n",
    "plt.colorbar(ticks=np.arange(1,18))\n",
    "plt.title(\"Cobertura de Solo de Fortaleza - {}\".format(year), fontsize=18)\n",
    "plt.xlabel(\"Longitude\")\n",
    "plt.ylabel(\"Latitude\")\n",
    "plt.ylim(lat_min, lat_max)\n",
    "plt.xlim(lon_min, lon_max)\n",
    "ax.add_patch(PolygonPatch(f, facecolor=\"none\", edgecolor='k', linewidth=2))\n",
    "#plt.savefig(fig_fname, bbox_inches='tight')\n",
    "plt.show()"
   ]
  },
  {
   "cell_type": "markdown",
   "metadata": {},
   "source": [
    "<p style=\"text-align: justify;\">Para avaliar qual a melhor cobertura de solo a ser utilizada no cálculo do índice, pode-se utilizar o histograma de pixels do recorte...</p>"
   ]
  },
  {
   "cell_type": "code",
   "execution_count": 35,
   "metadata": {
    "collapsed": true
   },
   "outputs": [],
   "source": [
    "# Obtêm um histograma com os valores de cobertura de solo\n",
    "# Inicializa uma lista com os tipos de cobertura\n",
    "lc_types = range(1,18)\n",
    "# Inicializa uma lista pra armazenar o número de pixels do tipo de cobertura\n",
    "lc_hist  = []\n",
    "\n",
    "for value in lc_types:\n",
    "    lc_total = (crop_values_lc == value).sum()\n",
    "    lc_hist.append(lc_total)\n",
    "\n",
    "# Obtêm o total de pixels na cena\n",
    "lc_pixels = sum(lc_hist)\n",
    "# Calcula o percentual de pixels para cada tipo de cobertura\n",
    "lc_phist  = [(x * 100) / lc_pixels for x in lc_hist]"
   ]
  },
  {
   "cell_type": "markdown",
   "metadata": {},
   "source": [
    "<p style=\"text-align: justify;\">...e então plota-los em um gráfico de barras verticais.</p>"
   ]
  },
  {
   "cell_type": "code",
   "execution_count": 47,
   "metadata": {},
   "outputs": [
    {
     "data": {
      "image/png": "[encoded data removed]",
      "text/plain": [
       "<Figure size 864x432 with 1 Axes>"
      ]
     },
     "metadata": {},
     "output_type": "display_data"
    }
   ],
   "source": [
    "fig_name = os.path.join(fig_dir, 'landcover_{}_hist'.format(year))\n",
    "\n",
    "## Plota o histograma com os dados\n",
    "fig = plt.figure(figsize=(12, 6))\n",
    "plt.bar(lc_types, lc_phist)\n",
    "plt.title(\"Histograma da Cobertura de Solo de Fortaleza - {}\".format(year), fontsize=16)\n",
    "plt.ylim(0, 50)\n",
    "plt.xlim(0, 18)\n",
    "plt.xticks(np.arange(1, 18, 1))\n",
    "plt.xlabel(\"Tipo de Cobertura\")\n",
    "plt.ylabel(\"Percentual (%)\")\n",
    "#plt.savefig(fig_name, bbox_inches='tight')\n",
    "plt.show()"
   ]
  },
  {
   "cell_type": "markdown",
   "metadata": {},
   "source": [
    "<p style=\"text-align: justify;\">A partir do histograma do tipo de cobertura, é possível perceber que savana (LC=9) e vegetação herbácea (LC=10) constituem a maior parte da cobertura rural da área. Essas coberturas serão utilizadas para avaliar o índice de Ilha de Calor.</p>"
   ]
  },
  {
   "cell_type": "markdown",
   "metadata": {},
   "source": [
    "##### (b) LST e Dias com Céu Claro\n",
    "\n",
    "<p style=\"text-align: justify;\">&nbsp;&nbsp;&nbsp;&nbsp;Realiza posteriormente o <em>stack</em> dos dados mensais de LST e do número de dias de céu claro no mês. Os valores no SubDataSet (10 para dia, 11 para noite) de condições de céu claro está no formato número binário; portanto é preciso convertê-los para números decimais:</p>"
   ]
  },
  {
   "cell_type": "code",
   "execution_count": 120,
   "metadata": {
    "collapsed": true
   },
   "outputs": [],
   "source": [
    "# Define uma função que converte os dados de \n",
    "def count_days(bin_array):\n",
    "    shp_array = bin_array.shape\n",
    "    row = shp_array[0]\n",
    "    col = shp_array[1]\n",
    "\n",
    "    int_array = np.zeros((row,col))\n",
    "\n",
    "    for r in range(row):\n",
    "        for c in range(col):\n",
    "            clear_days = bin(bin_array[r,c])\n",
    "            days = clear_days[2:].count('1')\n",
    "            int_array[r,c] = days\n",
    "\n",
    "    return int_array"
   ]
  },
  {
   "cell_type": "markdown",
   "metadata": {},
   "source": [
    "<p style=\"text-align: justify;\">&nbsp;&nbsp;&nbsp;&nbsp;Então o programa faz a leitura de cada arquivo de LST, durante o período de analise, e registra os valores de LST e dias com céu limpo. Esses valores são armazenados em um cubo de dados, com a terceira dimensão sendo o tempo. Por fim é feito o recorte do grid com base na matriz de longitude e latitude da cobertura de solo.</p>"
   ]
  },
  {
   "cell_type": "code",
   "execution_count": 111,
   "metadata": {},
   "outputs": [],
   "source": [
    "# Para a apresentação, será feita apenas a média mensal de dia do Terra\n",
    "satelite = ['terra']\n",
    "per_numb = [0]\n",
    "\n",
    "# Analise da LST\n",
    "# Primeiro por satellite (terra, aqua)\n",
    "for sat in satelite:\n",
    "    # Depois por periodo (dia, noite)\n",
    "    for k in per_numb:\n",
    "        # Indice do SubDataSet do MODIS LST para dia e noite\n",
    "        isds = int((5**k) - 1)\n",
    "        for mes in range(mes_inicio, mes_final + 1):\n",
    "            line = [year, mes, 15, sat, periodo[k]]\n",
    "\n",
    "            # Define o diretorio onde se encontra os dados de LST\n",
    "            LST_DIR = os.path.join(DATA_DIR,\"lst/%s/%04d/%02d\" % (sat,year,mes))\n",
    "\n",
    "            # Faz a leitura dos arquivos para cada mês\n",
    "            MODIS_LST_FILES = os.listdir(LST_DIR)\n",
    "            MODIS_LST_FILES.sort()\n",
    "            COUNT_FILE = MODIS_LST_FILES.copy()\n",
    "\n",
    "            for file in COUNT_FILE:\n",
    "                if file[-3:] != \"hdf\":\n",
    "                    MODIS_LST_FILES.remove(file)\n",
    "\n",
    "            # Cria uma lista para armazenar os valores de LST no mês\n",
    "            lst_record   = []\n",
    "            clear_record = []\n",
    "\n",
    "            for fname in MODIS_LST_FILES:\n",
    "                # Armazena o nome do arquivo de LST\n",
    "                lst_fname = os.path.join(LST_DIR, fname)\n",
    "                \n",
    "                # AQUISIÇÃO DE LST\n",
    "                lst_raster = gdal.Open(gdal.Open(lst_fname, gdal.GA_ReadOnly).GetSubDatasets()[isds][0],gdal.GA_ReadOnly)\n",
    "                lst_values = lst_raster.GetRasterBand(1).ReadAsArray() * 0.02\n",
    "                lst_values[lst_values == 0] = np.NaN\n",
    "\n",
    "                lst_record.append(lst_values)\n",
    "\n",
    "                # AQUISIÇÃO DE DIAS EM CONDIÇÕES CÉU LIMPO\n",
    "                clear_raster = gdal.Open(gdal.Open(lst_fname, gdal.GA_ReadOnly).GetSubDatasets()[10 + k][0], gdal.GA_ReadOnly)\n",
    "                clear_values = clear_raster.GetRasterBand(1).ReadAsArray()\n",
    "                clear_days   = count_days(clear_values)\n",
    "\n",
    "                clear_record.append(clear_days)"
   ]
  },
  {
   "cell_type": "markdown",
   "metadata": {},
   "source": [
    "<p style=\"text-align: justify;\">&nbsp;&nbsp;&nbsp;&nbsp;Após o empilhamento de todas matrizes de LST contidas dentro do intervalo de um mês, ele realiza uma média mensal simples com os dados de LST e uma soma com os dados de dias com céu limpo. É utilizada um módulo do <b>SciPy</b>, chamado <em>ndimage.zoom</em> para realizar a reamostragem para uma resolução de 500 m dos dados de LST e Dias de Céu Limpo: </p>"
   ]
  },
  {
   "cell_type": "code",
   "execution_count": 112,
   "metadata": {},
   "outputs": [],
   "source": [
    "# Converte a lista em um array e faz a media das cenas\n",
    "record = np.array(lst_record)\n",
    "lst_mean = np.nanmean(record, axis=0)\n",
    "\n",
    "# Contagem dos dias de céu limpo no mes\n",
    "record = np.array(clear_record)\n",
    "lst_clear = record.sum(axis=0)\n",
    "lst_clear[lst_clear == 0] = np.NaN\n",
    "\n",
    "# Reamostra a média para a resolução da landcover\n",
    "lst_mean_resample  = zoom(lst_mean, zoom=2.0, order=0)\n",
    "lst_clear_resample = zoom(lst_clear, zoom=2.0, order=0)\n",
    "\n",
    "# Recorta a cena para a area de estudo, com base nas coordenadas de landcover\n",
    "crop_values_lst = np.array(lst_mean_resample[row_min:row_max, col_min:col_max])\n",
    "crop_values_clear = np.array(lst_clear_resample[row_min:row_max, col_min:col_max])"
   ]
  },
  {
   "cell_type": "markdown",
   "metadata": {},
   "source": [
    "<p style=\"text-align: justify;\">&nbsp;&nbsp;&nbsp;&nbsp;Sobre a média mensal de LST é então aplicada a normalização:</p>"
   ]
  },
  {
   "cell_type": "code",
   "execution_count": 113,
   "metadata": {},
   "outputs": [],
   "source": [
    "crop_nrs_lst = nrs_scale(crop_values_lst, k)"
   ]
  },
  {
   "cell_type": "markdown",
   "metadata": {},
   "source": [
    "<p style=\"text-align: justify;\">&nbsp;&nbsp;&nbsp;&nbsp;Uma vez realizada o recorte, o dado de LST original e normalizado podem ser visualizados.</p>"
   ]
  },
  {
   "cell_type": "code",
   "execution_count": 114,
   "metadata": {},
   "outputs": [
    {
     "data": {
      "image/png": "[encoded data removed]",
      "text/plain": [
       "<Figure size 1152x432 with 4 Axes>"
      ]
     },
     "metadata": {},
     "output_type": "display_data"
    }
   ],
   "source": [
    "# Gera diretórios para armazenar a figura\n",
    "#fig_dir = os.path.join(IMGS_DIR, \"lst/%s/%s/%04d\" % (sat,periodo[k],year))\n",
    "#fig_name = os.path.join(fig_dir, '{}.png'.format(mes))\n",
    "\n",
    "#if not os.path.isdir(fig_dir):\n",
    "#    os.makedirs(fig_dir)\n",
    "\n",
    "if k == 0:\n",
    "    vmin = 300; vmax = 315\n",
    "else:\n",
    "    vmin = 290; vmax = 300\n",
    "\n",
    "fig = plt.figure(figsize=(16,6))\n",
    "ax = fig.add_subplot(121)\n",
    "plt.pcolormesh(crop_lon_lc, crop_lat_lc, crop_values_lst, cmap='RdBu_r', vmin = vmin, vmax = vmax)\n",
    "plt.ylim(lat_min, lat_max)\n",
    "plt.xlim(lon_min, lon_max)\n",
    "plt.title(\"LST original de Fortaleza - {}/{}\".format(mes, year), fontsize=14)\n",
    "plt.xlabel(\"Longitude\")\n",
    "plt.ylabel(\"Latitude\")\n",
    "ax.add_patch(PolygonPatch(f, facecolor=\"none\", edgecolor='k', linewidth=2))\n",
    "plt.colorbar()\n",
    "#plt.savefig(fig_name, bbox_inches='tight')\n",
    "\n",
    "ax = fig.add_subplot(122)\n",
    "plt.pcolormesh(crop_lon_lc, crop_lat_lc, crop_nrs_lst, cmap='RdBu_r', vmin = vmin, vmax = vmax)\n",
    "plt.ylim(lat_min, lat_max)\n",
    "plt.xlim(lon_min, lon_max)\n",
    "plt.title(\"$LST_{NRS}$ normalizada de Fortaleza - %d/%d\" % (mes, year), fontsize=14)\n",
    "plt.xlabel(\"Longitude\")\n",
    "plt.ylabel(\"Latitude\")\n",
    "ax.add_patch(PolygonPatch(f, facecolor=\"none\", edgecolor='k', linewidth=2))\n",
    "plt.colorbar()\n",
    "#plt.savefig(fig_name, bbox_inches='tight')\n",
    "plt.show()"
   ]
  },
  {
   "cell_type": "markdown",
   "metadata": {},
   "source": [
    "<p style=\"text-align: justify;\">&nbsp;&nbsp;&nbsp;&nbsp;Assim como o número de dias com condições de céu limpo em Fortaleza/CE e vizinhanças é visualizado, para se ter uma ideia de quantos valores de LST foram utilizados para realizar a média.</p>"
   ]
  },
  {
   "cell_type": "code",
   "execution_count": 121,
   "metadata": {},
   "outputs": [
    {
     "data": {
      "image/png": "[encoded data removed]",
      "text/plain": [
       "<Figure size 792x576 with 2 Axes>"
      ]
     },
     "metadata": {},
     "output_type": "display_data"
    }
   ],
   "source": [
    "# Obtêm o número de dias no mês\n",
    "dias_do_mes = calendar.monthrange(year,mes)[1]\n",
    "\n",
    "# Gera diretórios para armazenar a figura\n",
    "fig_dir = os.path.join(IMGS_DIR, \"lst/%s/%s/%04d\" % (sat,periodo[k],year))\n",
    "fig_name = os.path.join(fig_dir, '{}_clear_days.png'.format(mes))\n",
    "\n",
    "if not os.path.isdir(fig_dir):\n",
    "    os.makedirs(fig_dir)\n",
    "\n",
    "# get discrete colormap\n",
    "cmap = plt.get_cmap('gray', dias_do_mes)\n",
    "\n",
    "fig = plt.figure(figsize=(11,8))\n",
    "ax = fig.add_subplot(111)\n",
    "plt.pcolormesh(crop_lon_lc, crop_lat_lc, crop_values_clear, cmap=cmap, vmin = 0.5, vmax = dias_do_mes + 0.5)\n",
    "plt.colorbar(ticks=np.arange(0, dias_do_mes + 1))\n",
    "plt.ylim(lat_min, lat_max)\n",
    "plt.xlim(lon_min, lon_max)\n",
    "plt.title(\"Condição de Céu Limpo em Fortaleza - %d/%d\" % (mes, year), fontsize=14)\n",
    "plt.xlabel(\"Longitude\")\n",
    "plt.ylabel(\"Latitude\")\n",
    "ax.add_patch(PolygonPatch(f, facecolor=\"none\", edgecolor='k', linewidth=2))\n",
    "#plt.savefig(fig_name, bbox_inches='tight')\n",
    "plt.show()"
   ]
  },
  {
   "cell_type": "markdown",
   "metadata": {},
   "source": [
    "##### (c) Índice $UHI_{skin}$\n",
    "\n",
    "<p style=\"text-align: justify;\">&nbsp;&nbsp;&nbsp;&nbsp;Por fim, o índice $UHI_{skin}$  é calculado e armazenado no dataframe <em>SUHI</em>:</p>"
   ]
  },
  {
   "cell_type": "code",
   "execution_count": 128,
   "metadata": {},
   "outputs": [
    {
     "data": {
      "text/html": [
       "<div>\n",
       "<style scoped>\n",
       "    .dataframe tbody tr th:only-of-type {\n",
       "        vertical-align: middle;\n",
       "    }\n",
       "\n",
       "    .dataframe tbody tr th {\n",
       "        vertical-align: top;\n",
       "    }\n",
       "\n",
       "    .dataframe thead th {\n",
       "        text-align: right;\n",
       "    }\n",
       "</style>\n",
       "<table border=\"1\" class=\"dataframe\">\n",
       "  <thead>\n",
       "    <tr style=\"text-align: right;\">\n",
       "      <th></th>\n",
       "      <th>YEAR</th>\n",
       "      <th>MONTH</th>\n",
       "      <th>DAY</th>\n",
       "      <th>SATELLITE</th>\n",
       "      <th>PERIOD</th>\n",
       "      <th>LC_1</th>\n",
       "      <th>LC_2</th>\n",
       "      <th>LC_3</th>\n",
       "      <th>LC_4</th>\n",
       "      <th>LC_5</th>\n",
       "      <th>...</th>\n",
       "      <th>LC_7</th>\n",
       "      <th>LC_8</th>\n",
       "      <th>LC_9</th>\n",
       "      <th>LC_10</th>\n",
       "      <th>LC_11</th>\n",
       "      <th>LC_12</th>\n",
       "      <th>LC_14</th>\n",
       "      <th>LC_15</th>\n",
       "      <th>LC_16</th>\n",
       "      <th>LC_17</th>\n",
       "    </tr>\n",
       "  </thead>\n",
       "  <tbody>\n",
       "    <tr>\n",
       "      <th>0</th>\n",
       "      <td>2003.0</td>\n",
       "      <td>9.0</td>\n",
       "      <td>15.0</td>\n",
       "      <td>terra</td>\n",
       "      <td>day</td>\n",
       "      <td>NaN</td>\n",
       "      <td>5.594504</td>\n",
       "      <td>NaN</td>\n",
       "      <td>1.440073</td>\n",
       "      <td>NaN</td>\n",
       "      <td>...</td>\n",
       "      <td>4.311165</td>\n",
       "      <td>NaN</td>\n",
       "      <td>1.086215</td>\n",
       "      <td>0.999438</td>\n",
       "      <td>4.28694</td>\n",
       "      <td>0.845742</td>\n",
       "      <td>NaN</td>\n",
       "      <td>NaN</td>\n",
       "      <td>4.265833</td>\n",
       "      <td>3.664763</td>\n",
       "    </tr>\n",
       "  </tbody>\n",
       "</table>\n",
       "<p>1 rows × 21 columns</p>\n",
       "</div>"
      ],
      "text/plain": [
       "     YEAR  MONTH   DAY SATELLITE PERIOD  LC_1      LC_2  LC_3      LC_4  LC_5  \\\n",
       "0  2003.0    9.0  15.0     terra    day   NaN  5.594504   NaN  1.440073   NaN   \n",
       "\n",
       "     ...         LC_7  LC_8      LC_9     LC_10    LC_11     LC_12  LC_14  \\\n",
       "0    ...     4.311165   NaN  1.086215  0.999438  4.28694  0.845742    NaN   \n",
       "\n",
       "   LC_15     LC_16     LC_17  \n",
       "0    NaN  4.265833  3.664763  \n",
       "\n",
       "[1 rows x 21 columns]"
      ]
     },
     "execution_count": 128,
     "metadata": {},
     "output_type": "execute_result"
    }
   ],
   "source": [
    "# Estimativa dos valores de SHUI para o mês\n",
    "suhi_value = suhi_index(crop_nrs_lst, crop_values_lc)\n",
    "\n",
    "for value in suhi_value:\n",
    "    line.append(value)\n",
    "\n",
    "# Adiciona a linha no DF\n",
    "SUHI.loc[index_df] = line\n",
    "# Incrementa o indice da proxima linha\n",
    "index_df += 1\n",
    "\n",
    "SUHI"
   ]
  },
  {
   "cell_type": "markdown",
   "metadata": {},
   "source": [
    "### 3. RESULTADOS E CONCLUSÃO\n",
    "\n",
    "<p style=\"text-align: justify;\">&nbsp;&nbsp;&nbsp;&nbsp;O procedimento exemplificado para o mês 09/2003 (parte 2.4) foi aplicado iterativamente a todo o período de análise, 01/2003-12/2012, e a variação temporal do índice $UHI_{skin}$ pode então ser analisada, representada na Figura 2.</p>\n",
    "\n",
    "<!-- Para ser visualizado na tela\n",
    "<figure>\n",
    "   <img src=\"imgs/suhi.png\" alt=\"Série Temporal UHI para Fortaleza-CE\" width=\"800\">\n",
    "   <figcaption style=\"text-align: center;\">Fig 2. - Série Temporal $UHI_{skin}$ para Fortaleza/CE.</figcaption>\n",
    "</figure>\n",
    " -->\n",
    "\n",
    "![Alt text](https://github.com/ocn-rviana/suhi-ser347/blob/master/imgs/suhi.png?raw=True)"
   ]
  },
  {
   "cell_type": "markdown",
   "metadata": {},
   "source": [
    "### 4. REFERÊNCIAS BIBLIOGRÁFICAS\n",
    "\n",
    "Ji, Z., Li, J, Yue, J. Analysis of urban heat island ( UHI ) in the beijing metropolitan area by time-series modis data. p. 3327–3330, 2010.\n",
    "\n",
    "Li, H. et al. Science of the Total Environment A new method to quantify surface urban heat island intensity. Science of the Total Environment, v. 624, p. 262–272, 2018.\n",
    "\n",
    "Friedl, M. A., and Coauthors, 2002: Global land cover mapping from MODIS: Algorithms and early results. Remote Sens. Environ., 83, 287–302.\n",
    "\n",
    "Jin, M.S., 2012: Developing an Index to Measure Urban Heat Island Effect Using Satellite Land Skin Temperature and Land Cover Observations. J. Climate, 25, 6193–6201\n",
    "\n",
    "Rasul, A., Balzter, H. and Smith, C., 2017: Applying a normalized ratio scale technique to assess influences of urban expansion on land surface temperature of the semi-arid city of Erbil,International Journal of Remote Sensing, 38:13, 3960-3980"
   ]
  },
  {
   "cell_type": "code",
   "execution_count": null,
   "metadata": {
    "collapsed": true
   },
   "outputs": [],
   "source": []
  }
 ],
 "metadata": {
  "kernelspec": {
   "display_name": "Python 3",
   "language": "python",
   "name": "python3"
  },
  "language_info": {
   "codemirror_mode": {
    "name": "ipython",
    "version": 3
   },
   "file_extension": ".py",
   "mimetype": "text/x-python",
   "name": "python",
   "nbconvert_exporter": "python",
   "pygments_lexer": "ipython3",
   "version": "3.7.8"
  }
 },
 "nbformat": 4,
 "nbformat_minor": 2
}
