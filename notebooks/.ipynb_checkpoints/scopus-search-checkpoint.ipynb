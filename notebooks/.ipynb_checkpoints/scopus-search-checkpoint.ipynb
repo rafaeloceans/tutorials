{
 "cells": [
  {
   "cell_type": "markdown",
   "metadata": {},
   "source": [
    "<h1 style=\"text-align: center; color: #C11B17;\" markdown=\"4\">Estudo bibliométrico: Formação de uma base intelectual</h1>\n",
    "<h3 style=\"text-align: center; color: #C11B17;\" markdown=\"2\">Estudo de caso: <span style=\"color: #3D3C3A;\">E para o estudo da violência de gênero</span></h3>\n",
    "<hr style=\\\"border:2px solid #0077b9;\\\">"
   ]
  },
  {
   "cell_type": "markdown",
   "metadata": {},
   "source": [
    "<p style=\"text-align: right;\"><i>Ultima atualização</i>: 3 de dezembro de 2020.<p>\n",
    "<br>\n",
    "<p style=\"text-align: justify;\">Estudos bibliométricos possuem como principal objetivo identificar tendências e conexões de um campo de pesquisa específico, com a finalidade de facilitar a identificação das pesquisas mais relevantes neste campo e conhecer onde se concentra as pesquisas e os tópicos que podem ser considerados emergentes no assunto. Desta forma, a pesquisa bibliométrica constitui uma excelente ferramenta para que pesquisadores interessados em ingressar ou se atualizar sobre um determinado campo de estudo possam obter uma visão mais ampla dos seus tópicos de interesse.<p>\n",
    "<p style=\"text-align: justify;\">Nesse notebook, utilizaremos a linguagem de programação Python para exemplificar uma pesquisa bibliométrica tendo como campo de pesquisa <b>o uso de ferramentas de análise espacial e temporal para o estudo de violência de gênero</b>. Tais ferramentas utilizam principalmente modelagem estatítica e sistemas de informação geográfica (SIG) a partir de dados socio-econômicos, demográficos e sa</p>"
   ]
  },
  {
   "cell_type": "markdown",
   "metadata": {},
   "source": [
    "### Requisitos\n",
    "<hr style=\\\"border:2px solid #0077b9;\\\">\n",
    "\n",
    "<p style=\"text-align: justify;\">Este notebook foi executado utilizando uma instalação Python, versão 3.7.8, com as seguintes bibliotecas (e respectivas versões):<p>\n",
    "<ol>\n",
    "  <li>Numpy=1.19.2</li>\n",
    "  <li>Pandas=1.1.3</li>\n",
    "  <li>Matplotlib=3.3.2</li>\n",
    "  <li>Seaborn=0.11.0</li>\n",
    "  <li>Pybliometrics=2.7.0</li>\n",
    "</ol>\n",
    "<p style=\"text-align: justify;\">&nbsp;&nbsp;&nbsp;&nbsp;A rotina deve funcionar perfeitamente para versões acima  ou ligeiramente abaixo destas. Caso encontre algum problema na execução, você pode entrar em contato comigo pelo Twitter.<p>"
   ]
  },
  {
   "cell_type": "markdown",
   "metadata": {},
   "source": [
    "### Etapa 1: Importação das bibliotecas\n",
    "<hr style=\\\"border:2px solid #0077b9;\\\">\n",
    "\n",
    "<p style=\"text-align: justify;\">&nbsp;&nbsp;&nbsp;&nbsp;A primeira parte do código consiste na importação das bibliotecas necessárias para a pesquisa. A principal biblioteca utilizada é a <a href=\"https://pybliometrics.readthedocs.io/en/stable/\">pybliometrics</a>, que permite acessar e extrair informações de artigos da base de dados <i>Scopus</i>. Também serão necessárias bibliotecas para armazenar as principais informações relativas aos artigos, tais como título, ano de publicação, afiliação dos autores e etc. Para isto, iremos utilizar as bibliotecas <b>csv</b>, <b>Numpy</b> e <b>Pandas</b>. As bibliotecas <b>Matplotlib</b> e <b>Seaborn</b> serão utilizadas para uma demonstração gráfica ao final do notebook, mas não são totalmente necessárias se você não desejar realizar a visualização gráfica dos resultados da pesquisa. Finalmente, a biblioteca <b>datetime</b> será utilizada para converter os campos correspondentes ao ano de publicação do tipo <i>object</i> para <i>datetime</i>.<p>"
   ]
  },
  {
   "cell_type": "code",
   "execution_count": 4,
   "metadata": {},
   "outputs": [],
   "source": [
    "\"\"\"-------------------------------------------------------------\n",
    "    IMPORTAÇÃO DE BIBLIOTECAS\n",
    "-------------------------------------------------------------\"\"\"\n",
    "# Bibliotecas para tabelas e operações numéricas\n",
    "import csv\n",
    "import numpy as np\n",
    "import pandas as pd\n",
    "\n",
    "# Biblioteca OS\n",
    "from datetime import datetime\n",
    "\n",
    "# Bibliotecas gráficas\n",
    "import matplotlib.pyplot as plt\n",
    "import seaborn as sns\n",
    "\n",
    "# Configura o formato de exibição gráfica da biblioteca Seaborn\n",
    "sns.set_context('paper')\n",
    "sns.set_theme(style=\"whitegrid\")\n",
    "\n",
    "# Biblioteca para acessar a Base de Dados Scopus\n",
    "from pybliometrics.scopus import config, AbstractRetrieval, ScopusSearch\n",
    "from pybliometrics.scopus.exception import Scopus404Error, Scopus429Error"
   ]
  },
  {
   "cell_type": "markdown",
   "metadata": {},
   "source": [
    "### Etapa 2: Configurando acesso a base de dados da Scopus\n",
    "<hr style=\\\"border:2px solid #0077b9;\\\">\n",
    "\n",
    "<p style=\"text-align: justify;\">&nbsp;&nbsp;&nbsp;&nbsp;A próxima etapa do código consiste em fornecer acesso ao programa à base de dados da Scopus. Isto é feito configurando a chave de acesso obtida na API da Scopus. Uma chave de acesso pode ser obtida <a href=\"https://dev.elsevier.com/\">aqui</a>, clicando no botão \"I want an API Key\". Após preencher um cadastro informando email e finalidade de uso, você receberá uma combinação alfa-numérica. Entre com essa combinação no campo _keys. Além disso, dependendo da rede em que você irá rodar o programa, apenas uma parcela das informações sobre os manuscritos estarão disponíveis. Por padrão, redes sem assinatura da <i>Scopus</i> fornecem apenas informações básicas sobre o artigo. Utilize a variável api_view para configurar o nível de acesso que você possui na plataforma Scopus.<p>"
   ]
  },
  {
   "cell_type": "code",
   "execution_count": 5,
   "metadata": {},
   "outputs": [],
   "source": [
    "# Configurando a chave de acesso na API da Scopus.\n",
    "_keys = [\"a14d286a029e9c530a84e8f86e39fddb\"]\n",
    "config[\"Authentication\"][\"APIKey\"] = _keys.pop()\n",
    "api_view = \"META\""
   ]
  },
  {
   "cell_type": "markdown",
   "metadata": {},
   "source": [
    "<p style=\"text-align: justify;\">Quando utilizando pela primeira vez o programa, é preciso que o arquivo de configuração com a chave de acesso seja criado. Após isto, não há necessidade de criar novos arquivos de configuração para realizar buscas no sistema.<p>"
   ]
  },
  {
   "cell_type": "code",
   "execution_count": 6,
   "metadata": {},
   "outputs": [],
   "source": [
    "# Descomente a próxima linha para configurar a chave de acesso durante a primeira execução do programa.\n",
    "# create_config()"
   ]
  },
  {
   "cell_type": "markdown",
   "metadata": {},
   "source": [
    "<p style=\"text-align: justify;\">A biblioteca pybliometrics fornece uma função específica para extrair as informações básicas sobre um artigo dado o seu código de identificação (EID) na Scopus. Para uma lista de artigos, porém, pode ser mais interessante armazenar todas essas informações em uma tabela. Desta forma, estas informações podem ser visualizadas em programas como o Excel ou OpenCalc. Para isto, utilizaremos então uma função local que, dada uma lista contendo os códigos de identificação dos artigos, são realizadas consultas recorrentes à base de dados, e as informações são então armazenadas em um dataframe.<p>"
   ]
  },
  {
   "cell_type": "code",
   "execution_count": 7,
   "metadata": {},
   "outputs": [],
   "source": [
    "# Função para coletar informações dos artigos.\n",
    "def collect_data(eids_documents, api_view):\n",
    "    # Inicializa uma lista de dados vazia {data}; para cada entrada na lista de artigos obtidos\n",
    "    # cria um dicionário para armazenar as informações específicas sobre o artigo e\n",
    "    # armazena nessa lista\n",
    "    data = []\n",
    "    for key in eids_documents:\n",
    "        record = {}\n",
    "        error = True\n",
    "        while error:\n",
    "            try:\n",
    "                paper = AbstractRetrieval(key, id_type=\"eid\", view=api_view, refresh=True)\n",
    "                error = False\n",
    "                # Informações básicas.\n",
    "                record[\"id\"] = paper.identifier\n",
    "                record[\"doi\"] = paper.doi\n",
    "                record[\"eid\"] = paper.eid\n",
    "                record[\"pii\"] = paper.pii\n",
    "                record[\"pubmed_id\"] = paper.pubmed_id\n",
    "                record[\"titulo\"] = paper.title\n",
    "                record[\"resumo\"] = paper.abstract\n",
    "                record[\"descricao\"] = paper.description\n",
    "                record[\"data_publicacao\"] = datetime.strptime(paper.coverDate, \"%Y-%m-%d\").date() \\\n",
    "                                            if paper.coverDate else None\n",
    "                record[\"numero_citacao\"] = paper.citedby_count\n",
    "                record[\"idioma\"] = paper.language\n",
    "                record[\"tipo_publicacao\"] = paper.aggregationType\n",
    "                record[\"tipo_fonte\"] = paper.srctype\n",
    "                record[\"palavras_chaves\"] = tuple(paper.authkeywords) if paper.authkeywords else None\n",
    "                record[\"termos_indice\"] = tuple(paper.idxterms) if paper.idxterms else None\n",
    "                record[\"issn\"] = paper.issn\n",
    "\n",
    "                try:\n",
    "                    record[\"isbn\"] = \" \".join(paper.isbn) if type(paper.isbn) == tuple else paper.isbn\n",
    "                except TypeError:\n",
    "                    record[\"isbn\"] = None\n",
    "\n",
    "                # Informações sobre a Conferencia e/ou Revista.\n",
    "                record[\"conf_loc\"] = paper.conflocation\n",
    "                record[\"conferencia_nome\"] = paper.confname\n",
    "                record[\"revista_nome\"] = paper.publicationName\n",
    "                record[\"revista_ender\"] = paper.publisheraddress\n",
    "                record[\"titulo_ed\"] = paper.issuetitle\n",
    "                record[\"publis\"] = paper.publisher\n",
    "\n",
    "                # Informações sobre afiliação.\n",
    "                record[\"affiliacoes\"] = tuple(\n",
    "                    [{\"id\": affil.id if affil and affil.id else None,\n",
    "                      \"affiliacao\": affil.name if affil and affil.name else None,\n",
    "                      \"pais\": affil.country if affil and affil.country else None}\n",
    "                     for affil in paper.affiliation]) if paper.affiliation else None\n",
    "\n",
    "                # Informações sobre os autores.\n",
    "                record[\"autores\"] = tuple(\n",
    "                    [{\"id\": author.auid if author and author.auid else None,\n",
    "                      \"nome\": \"{} {}\".format(author.given_name, author.surname) \\\n",
    "                            if author and author.given_name and author.surname else None}\n",
    "                     for author in paper.authors]) if paper.authors else None\n",
    "\n",
    "                record[\"autores_affil\"] = tuple(\n",
    "                    [{\"id\": author.auid if author and author.auid else None,\n",
    "                      \"nome\": \"{} {}\".format(author.given_name, author.surname) \\\n",
    "                            if author and author.given_name and author.surname else None,\n",
    "                      \"affil_id\": author.affiliation_id if author and author.affiliation_id else None,\n",
    "                      \"affiliacao\": author.organization if author and author.organization else None,\n",
    "                      \"pais\": author.country if author and author.country else None}\n",
    "                     for author in paper.authorgroup]) if paper.authorgroup else None\n",
    "\n",
    "                # Informações sobre referencias.\n",
    "                record[\"ref_count\"] = paper.refcount if paper.refcount else None\n",
    "                record[\"references\"] = tuple([{\"id\": ref.id if ref and ref.id else None,\n",
    "                                            \"titulo\": ref.title if ref and ref.title else None,\n",
    "                                            \"doi\": ref.doi if ref and ref.doi else None,\n",
    "                                            \"autores\": ref.authors if ref and ref.authors else None}\n",
    "                                    for ref in paper.references]) if paper.references else None\n",
    "\n",
    "            except Scopus404Error:\n",
    "                record[\"id\"] = key\n",
    "                print(key)\n",
    "                error = False\n",
    "            except Scopus429Error:\n",
    "                # Removing the last item in _keys to assign it as new API key.\n",
    "                config[\"Authentication\"][\"APIKey\"] = _keys.pop()\n",
    "        data.append(record)\n",
    "        \n",
    "    df = pd.DataFrame(data)\n",
    "    \n",
    "    return df"
   ]
  },
  {
   "cell_type": "markdown",
   "metadata": {},
   "source": [
    "### Etapa 3: Efetuando a pesquisa à base de dados\n",
    "<hr style=\\\"border:2px solid #0077b9;\\\">\n",
    "\n",
    "<p style=\"text-align: justify;\">Uma vez configurado o ambiente para pesquisa na API da Scopus, a próxima etapa consiste na escolha dos critérios para pesquisa e consulta à base de dados. A API fornece vários campos de busca que podem ser consultados <a href=\"http://schema.elsevier.com/dtds/document/bkapi/search/SCOPUSSearchTips.htm\">aqui</a>; para nosso exemplo, iremos utilizar apenas os campos na seguinte tabela:<p>\n",
    "    \n",
    "\n",
    "<table>\n",
    "    <thead>\n",
    "        <tr>\n",
    "            <th style=\"text-align: center;\">Campo</th>\n",
    "            <th style=\"text-align: center;\">Descrição</th>\n",
    "        </tr>\n",
    "    </thead>\n",
    "    <tbody>\n",
    "        <tr><td style=\"text-align: center;\">TITLE-ABS-KEY</td>\n",
    "            <td style=\"text-align: center;\">Pesquisa no resumo, palavras-chave e título do documento se a(s) palavra(s) existe(m).</td></tr>\n",
    "        <tr><td style=\"text-align: center;\">LANGUAGE</td>\n",
    "            <td style=\"text-align: center;\">O idioma em que o documento original foi escrito.</td></tr>\n",
    "        <tr><td style=\"text-align: center;\">PUBYEAR</td>\n",
    "            <td style=\"text-align: center;\">O ano em que o documento foi publicado. Exige o uso de BEF para artigos publicados antes do ano indicado, AFT para artigos publicados após o ano indicado, ou IS para artigos publicados no ano indicado</td></tr>\n",
    "    </tbody>\n",
    "</table>"
   ]
  },
  {
   "cell_type": "markdown",
   "metadata": {},
   "source": [
    "<p style=\"text-align: justify;\">Para a nossa pesquisa, nós desejamos artigos que abordem tanto a violência de gênero (<b>condição 1</b>) quanto o uso de ferramentas de análise espacial (<b>condição 2</b>). Sendo assim, precisamos escolher as palavras-chaves na busca que representem o máximo possível desses dois temas. Nós limitaremos a busca apenas para artigos publicados em inglês ou português, no intervalo de tempo entre 2000 e 2020. A sentença contendo a busca deve então utilizar a seguinte forma:</p>\n",
    "    \n",
    "<p style=\"text-align: center;\">TITLE-ABS-KEY(condição 1) AND TITLE-ABS-KEY(condição 2) AND PUBYEAR AFT 1999 AND PUBYEAR BEF 2021 AND LANGUAGE(english OR portuguese)</p>\n",
    "\n",
    "<p>O operador AND indica que todas as condições devem ser antendidas, enquanto o operador OR indica que pelo menos uma das condições deve ser satisfeita. Para a condição 1, serão escolhidas as palavras \"feminicide\" ou \"femicide\" ou \"gender violence\" ou \"violence against women\" ou \"intimate partner violence\"; qualquer destas palavras (ou grupo de palavras) presente no título/resumo/palavras-chaves do artigo será considerada válida. Para a condição 2, serão escolhidas as palavras \"geographic information system\" ou \"spatial analysis\" ou \"modelling\" ou \"modeling\" ou \"gis\" ou \"mapping\". A sentença final fica:</p>"
   ]
  },
  {
   "cell_type": "code",
   "execution_count": 8,
   "metadata": {},
   "outputs": [],
   "source": [
    "# Configurando os critérios de pesquisa.\n",
    "query = 'TITLE-ABS-KEY(\"feminicide\" OR \"femicide\" OR \"gender violence\" OR \"violence against women\" OR \"intimate partner violence\")' \\\n",
    "        ' AND TITLE-ABS-KEY(\"geographic information system\" OR \"spatial analysis\" OR \"modelling\" OR \"modeling\" OR \"gis\" OR \"mapping\")' \\\n",
    "        ' AND PUBYEAR BEF 2021 AND PUBYEAR AFT 1999' \\\n",
    "        ' AND LANGUAGE(english OR portuguese)'"
   ]
  },
  {
   "cell_type": "markdown",
   "metadata": {},
   "source": [
    "<p style=\"text-align: justify;\">O próximo passo consiste de realizar uma pesquisa à base de dados utilizando os critérios de busca definidos anteriormente. Para isso utilizamos a função <i>ScopusSearch</i>. Os parâmetros da função são:<p>\n",
    " <ul>\n",
    "  <li>uma string contendo os dados da pesquisa, no nosso caso query;</li>\n",
    "  <li>max_entries, se desejamos limitar o número de resultados da pesquisa (em nosso caso <b>None</b>);</li>\n",
    "  <li>subscriber, se o acesso à Scopus é realizado a partir de uma rede com acesso total (<b>False</b>);</li>\n",
    "  <li>verbose, se queremos imprimir na tela uma barra de progresso do download das informações (<b>True</b>).</li>\n",
    "</ul>"
   ]
  },
  {
   "cell_type": "code",
   "execution_count": 9,
   "metadata": {},
   "outputs": [
    {
     "name": "stdout",
     "output_type": "stream",
     "text": [
      "Downloading results for query \"TITLE-ABS-KEY(\"feminicide\" OR \"femicide\" OR \"gender violence\" OR \"violence against women\" OR \"intimate partner violence\") AND TITLE-ABS-KEY(\"geographic information system\" OR \"spatial analysis\" OR \"modelling\" OR \"modeling\" OR \"gis\" OR \"mapping\") AND PUBYEAR BEF 2021 AND PUBYEAR AFT 1999  AND LANGUAGE(english OR portuguese)\":\n",
      "Progress: |██████████████████████████████████████████████████| 100.00% Complete\n",
      "Número total de publicações: 540.\n"
     ]
    }
   ],
   "source": [
    "# Cria um objeto de pesquisa ScopusSearch contendo as informações para busca.\n",
    "scopus = ScopusSearch(query, max_entries=None, subscriber=False, verbose=True)\n",
    "\n",
    "# Retorna o número de registros coletados pela API.\n",
    "print(\"Número total de publicações: {}.\".format(scopus.get_results_size()))"
   ]
  },
  {
   "cell_type": "markdown",
   "metadata": {},
   "source": [
    "<p style=\"text-align: justify;\">Uma vez que a busca tenha sido executada, o próximo passo é extrair os códigos de identificação dos artigos em uma lista e utilizar a função local coletar_dados() para extrair todas as informações dos artigos. Essas informaçãos serão armazenadas em uma tabela (dataframe) e podemos, por exemplo, visualizar os 15 artigos mais citados sobre o tema.</p>"
   ]
  },
  {
   "cell_type": "code",
   "execution_count": 10,
   "metadata": {},
   "outputs": [],
   "source": [
    "# Obtêm uma lista contendo todos os identificadores digitais (EID) resgatados da API durante a busca.\n",
    "eids_documentos = scopus.get_eids()\n",
    "\n",
    "# Coleta as informações sobre os artigos, a partir dos EID e da função auxiliar.\n",
    "df = collect_data(eids_documentos, api_view)\n",
    "\n",
    "# Exibe as primeiras 10 entradas contendo o título, data de publicação e DOI dos manuscritos\n",
    "pd.options.display.max_colwidth = 200\n",
    "df.sort_values(by='numero_citacao', ascending=False, ignore_index=True)[[\"titulo\",\"data_publicacao\",\"doi\",\"revista_nome\",'numero_citacao']].head(15).style.set_properties(**{'text-align': 'left'}).hide_index()"
   ]
  },
  {
   "cell_type": "markdown",
   "metadata": {},
   "source": [
    "<p style=\"text-align: justify;\">Finalmente, utilizamos o método to_csv para salvar a tabela em um arquivo csv, que pode ser posteriormente visualizado e editado em qualquer software que trabalhe com planilhas (ou usando o próprio Python, como será visto adiante).<p>"
   ]
  },
  {
   "cell_type": "code",
   "execution_count": 13,
   "metadata": {},
   "outputs": [],
   "source": [
    "# Armazena todas as entradas em um arquivo .csv, para consulta posterior\n",
    "df.to_csv(\"results_search_scopus.csv\", index=False, quoting=csv.QUOTE_ALL)"
   ]
  },
  {
   "cell_type": "markdown",
   "metadata": {},
   "source": [
    "### Bônus: Visualizando o número de publicações por ano\n",
    "\n",
    "<p style=\"text-align: justify;\">Esse notebook teve como objetivo apresentar um método para elaboração de uma base intelectual utilizando a linguagem de programação Python. A próxima etapa é a análise das informações adquiridas de cada artigo na base de dados <i>Scopus</i>, e será realizada em um futuro notebook.</p>\n",
    "    \n",
    "<p style=\"text-align: justify;\">&nbsp;&nbsp;&nbsp;&nbsp;Para dar uma amostra prévia da utilidade de uma pesquisa bibliométrica, vamos visualizar a evolução no número de publicações em jornais especializados ao longo do período 2000-2020. A data de publicação de cada manuscrito pode ser vista na coluna <span style=\"font-family: 'DejaVu Sans Mono';\">data_publicacao</span>. Vamos visualizar o conteúdo desta coluna:<p>"
   ]
  },
  {
   "cell_type": "code",
   "execution_count": 14,
   "metadata": {},
   "outputs": [
    {
     "data": {
      "text/plain": [
       "0      2020-12-31\n",
       "1      2020-12-01\n",
       "2      2020-12-01\n",
       "3      2020-11-01\n",
       "4      2020-11-01\n",
       "          ...    \n",
       "535    2002-01-01\n",
       "536    2002-01-01\n",
       "537    2001-01-01\n",
       "538    2000-01-01\n",
       "539    2000-01-01\n",
       "Name: data_publicacao, Length: 540, dtype: object"
      ]
     },
     "execution_count": 14,
     "metadata": {},
     "output_type": "execute_result"
    }
   ],
   "source": [
    "# Conteúdo da coluna \"data_publicacao\"\n",
    "df[\"data_publicacao\"]"
   ]
  },
  {
   "cell_type": "markdown",
   "metadata": {},
   "source": [
    "<p style=\"text-align: justify;\">Como pode ser visto acima, as datas de publicação estão no formato YYYY-MM-DD, onde YYYY representa o ano, MM o mês, e DD o dia. Além disso, o tipo do dado em cada célula na coluna é <span style=\"font-family: 'DejaVu Sans Mono';\">object</span>. Para trabalhar com a informação de data, o melhor tipo de dado em Python é o <span style=\"font-family: 'DejaVu Sans Mono';\">datetime</span>. Iremos então converter o conteúdo do dado na tabela utilizando as seguintes linhas:</p>"
   ]
  },
  {
   "cell_type": "code",
   "execution_count": 15,
   "metadata": {},
   "outputs": [
    {
     "data": {
      "text/plain": [
       "0     2020-12-31\n",
       "1     2020-12-01\n",
       "2     2020-12-01\n",
       "3     2020-11-01\n",
       "4     2020-11-01\n",
       "         ...    \n",
       "535   2002-01-01\n",
       "536   2002-01-01\n",
       "537   2001-01-01\n",
       "538   2000-01-01\n",
       "539   2000-01-01\n",
       "Name: data_publicacao, Length: 540, dtype: datetime64[ns]"
      ]
     },
     "execution_count": 15,
     "metadata": {},
     "output_type": "execute_result"
    }
   ],
   "source": [
    "# Converte o tipo de dado da coluna \"data_publicacao\" para datetime\n",
    "datetimes = pd.to_datetime(df[\"data_publicacao\"])    # realiza a conversão utilizando a função pd.to_datetime()\n",
    "df[\"data_publicacao\"] = datetimes                    # substitui o conteúdo original da coluna \"data_publicacao\"\n",
    "\n",
    "# Criamos uma nova coluna para armazenar apenas o ano da publicação\n",
    "df[\"ano_publicacao\"] = df[\"data_publicacao\"].dt.year\n",
    "\n",
    "# Conteúdo da coluna \"data_publicacao\" modificado\n",
    "df[\"data_publicacao\"]"
   ]
  },
  {
   "cell_type": "markdown",
   "metadata": {},
   "source": [
    "<p style=\"text-align: justify;\">O formato da data de publicação continua o mesmo, porém o tipo do dado agora é <span style=\"font-family: 'DejaVu Sans Mono';\">datetime</span>. Para essa visualização (e também em análises futuras), iremos utilizar apenas as publicações do tipo artigo em jornais especializados. Essas publicações são marcadas na coluna <span style=\"font-family: 'DejaVu Sans Mono';\">tipo_publicacao</span> como <i>Journal</i>. Vamos filtrar então nossa base utilizando o seguinte código:</p>"
   ]
  },
  {
   "cell_type": "code",
   "execution_count": 16,
   "metadata": {},
   "outputs": [],
   "source": [
    "# Filtra a base intelectual para conter apenas os trabalhos publicados em periódicos (categoria Journal)\n",
    "tipo_publ = df[\"tipo_publicacao\"].astype(str) == \"Journal\"   # O método .astype(str) converte o conteúdo da coluna em string\n",
    "df = df[tipo_publ].reset_index(drop=True)"
   ]
  },
  {
   "cell_type": "markdown",
   "metadata": {},
   "source": [
    "<p style=\"text-align: justify;\">Uma vez que adicionamos a coluna <span style=\"font-family: 'DejaVu Sans Mono';\">ano_publicacao</span>, podemos agrupar todas as publicações realizadas em um mesmo ano utilizando a função <i>groupby</i> e aplicar em seguida o método <i>.size()</i> para obter a série contendo o número de publicações por ano:<p>"
   ]
  },
  {
   "cell_type": "code",
   "execution_count": 17,
   "metadata": {},
   "outputs": [
    {
     "data": {
      "text/plain": [
       "ano_publicacao\n",
       "2000     2\n",
       "2001     1\n",
       "2002     4\n",
       "2003     3\n",
       "2004     2\n",
       "2005     4\n",
       "2006    11\n",
       "2007     8\n",
       "2008     9\n",
       "2009    15\n",
       "2010    13\n",
       "2011    18\n",
       "2012    16\n",
       "2013    28\n",
       "2014    35\n",
       "2015    36\n",
       "2016    39\n",
       "2017    63\n",
       "2018    71\n",
       "2019    69\n",
       "2020    76\n",
       "dtype: int64"
      ]
     },
     "execution_count": 17,
     "metadata": {},
     "output_type": "execute_result"
    }
   ],
   "source": [
    "# Conta o número de publicações por ano de publicação\n",
    "pub    = df.groupby(\"ano_publicacao\").size()\n",
    "# Exibe a série temporal de publicações por ano\n",
    "pub"
   ]
  },
  {
   "cell_type": "markdown",
   "metadata": {},
   "source": [
    "<p style=\"text-align: justify;\">A próxima etapa é criar um novo dataframe, chamado <span style=\"font-family: 'DejaVu Sans Mono';\">df_plot</span>, contendo apenas as informações de ano de publicação e número de publicações naquele ano. Isto é feito extraindo os valores da série <span style=\"font-family: 'DejaVu Sans Mono';\">pub</span> e depois atribuindo a cada linha no dataframe original (em uma nova coluna Count) o número total de publicações naquele ano usando o método <i>.assign</i>. Finalmente, removemos todas as linhas duplicadas no campo <span style=\"font-family: 'DejaVu Sans Mono';\">ano_publicacao</span> e fazemos um recorte do dataframe contendo apenas as colunas <span style=\"font-family: 'DejaVu Sans Mono';\">ano_publicacao</span> e <span style=\"font-family: 'DejaVu Sans Mono';\">Count</span>:<p>"
   ]
  },
  {
   "cell_type": "code",
   "execution_count": 18,
   "metadata": {},
   "outputs": [
    {
     "data": {
      "text/html": [
       "<div>\n",
       "<style scoped>\n",
       "    .dataframe tbody tr th:only-of-type {\n",
       "        vertical-align: middle;\n",
       "    }\n",
       "\n",
       "    .dataframe tbody tr th {\n",
       "        vertical-align: top;\n",
       "    }\n",
       "\n",
       "    .dataframe thead th {\n",
       "        text-align: right;\n",
       "    }\n",
       "</style>\n",
       "<table border=\"1\" class=\"dataframe\">\n",
       "  <thead>\n",
       "    <tr style=\"text-align: right;\">\n",
       "      <th></th>\n",
       "      <th>ano_publicacao</th>\n",
       "      <th>Count</th>\n",
       "    </tr>\n",
       "  </thead>\n",
       "  <tbody>\n",
       "    <tr>\n",
       "      <th>0</th>\n",
       "      <td>2000</td>\n",
       "      <td>2</td>\n",
       "    </tr>\n",
       "    <tr>\n",
       "      <th>1</th>\n",
       "      <td>2001</td>\n",
       "      <td>1</td>\n",
       "    </tr>\n",
       "    <tr>\n",
       "      <th>2</th>\n",
       "      <td>2002</td>\n",
       "      <td>4</td>\n",
       "    </tr>\n",
       "    <tr>\n",
       "      <th>3</th>\n",
       "      <td>2003</td>\n",
       "      <td>3</td>\n",
       "    </tr>\n",
       "    <tr>\n",
       "      <th>4</th>\n",
       "      <td>2004</td>\n",
       "      <td>2</td>\n",
       "    </tr>\n",
       "    <tr>\n",
       "      <th>5</th>\n",
       "      <td>2005</td>\n",
       "      <td>4</td>\n",
       "    </tr>\n",
       "    <tr>\n",
       "      <th>6</th>\n",
       "      <td>2006</td>\n",
       "      <td>11</td>\n",
       "    </tr>\n",
       "    <tr>\n",
       "      <th>7</th>\n",
       "      <td>2007</td>\n",
       "      <td>8</td>\n",
       "    </tr>\n",
       "    <tr>\n",
       "      <th>8</th>\n",
       "      <td>2008</td>\n",
       "      <td>9</td>\n",
       "    </tr>\n",
       "    <tr>\n",
       "      <th>9</th>\n",
       "      <td>2009</td>\n",
       "      <td>15</td>\n",
       "    </tr>\n",
       "    <tr>\n",
       "      <th>10</th>\n",
       "      <td>2010</td>\n",
       "      <td>13</td>\n",
       "    </tr>\n",
       "    <tr>\n",
       "      <th>11</th>\n",
       "      <td>2011</td>\n",
       "      <td>18</td>\n",
       "    </tr>\n",
       "    <tr>\n",
       "      <th>12</th>\n",
       "      <td>2012</td>\n",
       "      <td>16</td>\n",
       "    </tr>\n",
       "    <tr>\n",
       "      <th>13</th>\n",
       "      <td>2013</td>\n",
       "      <td>28</td>\n",
       "    </tr>\n",
       "    <tr>\n",
       "      <th>14</th>\n",
       "      <td>2014</td>\n",
       "      <td>35</td>\n",
       "    </tr>\n",
       "    <tr>\n",
       "      <th>15</th>\n",
       "      <td>2015</td>\n",
       "      <td>36</td>\n",
       "    </tr>\n",
       "    <tr>\n",
       "      <th>16</th>\n",
       "      <td>2016</td>\n",
       "      <td>39</td>\n",
       "    </tr>\n",
       "    <tr>\n",
       "      <th>17</th>\n",
       "      <td>2017</td>\n",
       "      <td>63</td>\n",
       "    </tr>\n",
       "    <tr>\n",
       "      <th>18</th>\n",
       "      <td>2018</td>\n",
       "      <td>71</td>\n",
       "    </tr>\n",
       "    <tr>\n",
       "      <th>19</th>\n",
       "      <td>2019</td>\n",
       "      <td>69</td>\n",
       "    </tr>\n",
       "    <tr>\n",
       "      <th>20</th>\n",
       "      <td>2020</td>\n",
       "      <td>76</td>\n",
       "    </tr>\n",
       "  </tbody>\n",
       "</table>\n",
       "</div>"
      ],
      "text/plain": [
       "    ano_publicacao  Count\n",
       "0             2000      2\n",
       "1             2001      1\n",
       "2             2002      4\n",
       "3             2003      3\n",
       "4             2004      2\n",
       "5             2005      4\n",
       "6             2006     11\n",
       "7             2007      8\n",
       "8             2008      9\n",
       "9             2009     15\n",
       "10            2010     13\n",
       "11            2011     18\n",
       "12            2012     16\n",
       "13            2013     28\n",
       "14            2014     35\n",
       "15            2015     36\n",
       "16            2016     39\n",
       "17            2017     63\n",
       "18            2018     71\n",
       "19            2019     69\n",
       "20            2020     76"
      ]
     },
     "execution_count": 18,
     "metadata": {},
     "output_type": "execute_result"
    }
   ],
   "source": [
    "pub    = pub.values\n",
    "df_pub = df.drop_duplicates(subset=\"ano_publicacao\").assign(Count=np.flipud(pub))\n",
    "\n",
    "# Cria uma nova tabela a partir da contagem de publicações e reorganiza por ordem crescente dos anos\n",
    "df_plot = df_pub[[\"ano_publicacao\",\"Count\"]].copy()\n",
    "df_plot = df_plot.sort_values(by=['ano_publicacao']).reset_index(drop=True)\n",
    "\n",
    "# Exibe o novo dataframe\n",
    "df_plot"
   ]
  },
  {
   "cell_type": "markdown",
   "metadata": {},
   "source": [
    "<p style=\"text-align: justify;\">Com o dataframe pronto, podemos então utilizar a função <span style=\"font-family: 'DejaVu Sans Mono';\">barplot</span> da biblioteca <b>Seaborn</b> para plotar um histograma anual de publicações:<p>"
   ]
  },
  {
   "cell_type": "code",
   "execution_count": 19,
   "metadata": {},
   "outputs": [
    {
     "data": {
      "image/png": "[encoded data removed]",
      "text/plain": [
       "<Figure size 1008x504 with 1 Axes>"
      ]
     },
     "metadata": {},
     "output_type": "display_data"
    }
   ],
   "source": [
    "# Configura as fontes dos gráficos\n",
    "SMALL_SIZE = 12\n",
    "MEDIUM_SIZE = 14\n",
    "BIGGER_SIZE = 20\n",
    "\n",
    "plt.rc('font', size=BIGGER_SIZE)         # tamanho da fonte padrão\n",
    "plt.rc('axes', titlesize=SMALL_SIZE)     # tamanho da fonte do título dos eixos\n",
    "plt.rc('axes', labelsize=MEDIUM_SIZE)    # tamanho da fonte dos marcadores dos eixos x e y\n",
    "plt.rc('xtick', labelsize=SMALL_SIZE)    # tamanho da fonte dos marcadores do eixo-x\n",
    "plt.rc('ytick', labelsize=SMALL_SIZE)    # tamanho da fonte dos marcadores do eixo-y\n",
    "plt.rc('legend', fontsize=SMALL_SIZE)    # tamanho da fonte da legenda\n",
    "plt.rc('figure', titlesize=BIGGER_SIZE)  # tamanho da fonte do título da figura\n",
    "\n",
    "# Cria o plot\n",
    "fig, ax = plt.subplots(figsize=(14,7))\n",
    "sns.barplot(ax=ax, x=\"ano_publicacao\", y=\"Count\", data=df_plot, palette=\"Reds_d\")\n",
    "sns.despine(ax=ax)   # Remove os eixos da direita e superior no gráfico\n",
    "plt.xticks(rotation=90)\n",
    "plt.xlabel(\"Ano de publicação\", labelpad=20)\n",
    "plt.ylabel(\"Número de publicações\", labelpad=10)\n",
    "plt.title(\"Total de estudos sobre violência de gênero utilizando metodologias de análise espaço-temporal,\\nno período de 2000-2020\", fontsize=18)\n",
    "ax.annotate(\"Fonte: Base de dados Scopus\", xy=(0.08, 0.84), size=14,  style='italic', xycoords='figure fraction');\n",
    "# Descomente a linha abaixo para salvar a figura\n",
    "# plt.savefig('total_publicacoes_ano.png', dpi=96, bbox_inches='tight', pad_inches=0.2);"
   ]
  },
  {
   "cell_type": "markdown",
   "metadata": {},
   "source": []
  },
  {
   "cell_type": "markdown",
   "metadata": {},
   "source": []
  }
 ],
 "metadata": {
  "kernelspec": {
   "display_name": "Python 3",
   "language": "python",
   "name": "python3"
  },
  "language_info": {
   "codemirror_mode": {
    "name": "ipython",
    "version": 3
   },
   "file_extension": ".py",
   "mimetype": "text/x-python",
   "name": "python",
   "nbconvert_exporter": "python",
   "pygments_lexer": "ipython3",
   "version": "3.7.8"
  }
 },
 "nbformat": 4,
 "nbformat_minor": 4
}
