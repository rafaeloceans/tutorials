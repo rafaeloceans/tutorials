{
 "cells": [
  {
   "cell_type": "markdown",
   "metadata": {},
   "source": [
    "<h1 style=\"text-align: left; color: #25383C;\" markdown=\"4\">Estudo bibliométrico: Formação de uma base intelectual</h1>"
   ]
  },
  {
   "cell_type": "markdown",
   "metadata": {},
   "source": [
    "-- *Estudo de caso: Sensoriamento remoto aplicado à areas de conservação*\n",
    "<hr />"
   ]
  },
  {
   "cell_type": "markdown",
   "metadata": {},
   "source": [
    "<p style=\"text-align: right;\"><i>Ultima atualização</i>: 5 de dezembro de 2020.<p>"
   ]
  },
  {
   "cell_type": "markdown",
   "metadata": {},
   "source": [
    "<p style=\"text-align: justify;\">Estudos bibliométricos possuem como principal objetivo identificar tendências e conexões de um campo de pesquisa em específico, com a finalidade de facilitar a identificação das pesquisas mais relevantes neste campo, quais os autores mais produtivos na área, e conhecer onde se concentra as pesquisas e os tópicos que podem ser considerados emergentes no assunto. Desta forma, a pesquisa bibliométrica constitui uma excelente ferramenta para que pesquisadores interessados em ingressar ou se atualizar sobre um determinado campo de estudo possam obter uma visão mais ampla dos seus tópicos de interesse. Para as pesquisas bibliométricas, as principais bases de dados utilizadas são a <b>Web of Science</b> e a <b>Scopus</b>. Nós iremos utilizar a base de dados <b>Scopus</b> para nosso exemplo.<p>\n",
    "    \n",
    "<p style=\"text-align: justify;\">&nbsp;&nbsp;&nbsp;&nbsp;Nesse notebook utilizaremos a linguagem de programação Python para exemplificar uma pesquisa bibliométrica, tendo como campo de pesquisa <b>o uso de sensoriamento remoto aplicado ao monitoramento e avaliação de áreas de conservação no Brasil</b>. O notebook compreende a primeira parte da pesquisa, que consiste na elaboração de uma base intelectual composta de manuscritos e indicadores de publicação relevantes (número de citações, ano de publicação, revista, etc). Esta base intelectual será submetida à uma análise estatística posteriormente.<p>"
   ]
  },
  {
   "cell_type": "markdown",
   "metadata": {},
   "source": [
    "<p style=\"text-align: justify;\">&nbsp;&nbsp;&nbsp;&nbsp;O seguinte botão serve para mostrar/ocultar o código, e também deixar a página mais bonita...</p>"
   ]
  },
  {
   "cell_type": "code",
   "execution_count": 1,
   "metadata": {},
   "outputs": [
    {
     "data": {
      "text/html": [
       "<script>\n",
       "code_show=true; \n",
       "function code_toggle() {\n",
       " if (code_show){\n",
       " $('div.input').hide();\n",
       " } else {\n",
       " $('div.input').show();\n",
       " }\n",
       " code_show = !code_show\n",
       "} \n",
       "$( document ).ready(code_toggle);\n",
       "</script>\n",
       "<form action=\"javascript:code_toggle()\"><input type=\"submit\" value=\"Clique aqui para mostrar/ocultar o código Python.\"></form>"
      ],
      "text/plain": [
       "<IPython.core.display.HTML object>"
      ]
     },
     "execution_count": 1,
     "metadata": {},
     "output_type": "execute_result"
    }
   ],
   "source": [
    "from IPython.core.display import HTML\n",
    "\n",
    "def css_styling():\n",
    "    styles = open(\"estilos/custom.css\", \"r\").read()\n",
    "    return HTML(styles)\n",
    "css_styling()\n",
    "\n",
    "HTML('''<script>\n",
    "code_show=true; \n",
    "function code_toggle() {\n",
    " if (code_show){\n",
    " $('div.input').hide();\n",
    " } else {\n",
    " $('div.input').show();\n",
    " }\n",
    " code_show = !code_show\n",
    "} \n",
    "$( document ).ready(code_toggle);\n",
    "</script>\n",
    "<form action=\"javascript:code_toggle()\"><input type=\"submit\" value=\"Clique aqui para mostrar/ocultar o código Python.\"></form>''')"
   ]
  },
  {
   "cell_type": "markdown",
   "metadata": {},
   "source": [
    "### Requisitos\n",
    "<hr style=\\\"border:2px solid #0077b9;\\\">\n",
    "\n",
    "<p style=\"text-align: justify;\">Este notebook foi executado utilizando uma instalação Python, versão 3.7.8, com as seguintes bibliotecas (e respectivas versões):<p>\n",
    "<ol>\n",
    "  <li>Numpy=1.19.2</li>\n",
    "  <li>Pandas=1.1.3</li>\n",
    "  <li>Matplotlib=3.3.2</li>\n",
    "  <li>Seaborn=0.11.0</li>\n",
    "  <li>Pybliometrics=2.7.0</li>\n",
    "</ol>\n",
    "<p style=\"text-align: justify;\">&nbsp;&nbsp;&nbsp;&nbsp;A rotina deve funcionar perfeitamente para versões acima  ou ligeiramente abaixo destas. Caso encontre algum problema na sua execução, entre em contato comigo pelo Twitter (<a href=\"https://twitter.com/ocnrviana\">@ocnrviana<a>).<p>"
   ]
  },
  {
   "cell_type": "markdown",
   "metadata": {},
   "source": [
    "### Etapa 1: Importação das bibliotecas\n",
    "<hr />\n",
    "\n",
    "<p style=\"text-align: justify;\">A primeira parte do código consiste na importação das bibliotecas necessárias para a pesquisa. A principal biblioteca utilizada é a <a href=\"https://pybliometrics.readthedocs.io/en/stable/\">pybliometrics</a>, que permite acessar e extrair informações de artigos da base de dados <b>Scopus</b>. Também serão necessárias bibliotecas para armazenar as principais informações relativas aos artigos, tais como título, ano de publicação, afiliação dos autores e etc. Para isto, iremos utilizar as bibliotecas <code>csv</code>, <code>Numpy</code> e <code>Pandas</code>. As bibliotecas <code>Matplotlib</code> e <code>Seaborn</code> serão utilizadas para uma demonstração gráfica ao final do notebook, mas não são totalmente necessárias se você não desejar realizar a visualização gráfica dos resultados da pesquisa usando Python. Finalmente, a biblioteca <code>datetime</code> será utilizada para converter os campos correspondentes ao ano de publicação do tipo <code>object</code> para <code>datetime</code>.<p>"
   ]
  },
  {
   "cell_type": "code",
   "execution_count": 2,
   "metadata": {},
   "outputs": [],
   "source": [
    "\"\"\"-------------------------------------------------------------\n",
    "    IMPORTAÇÃO DE BIBLIOTECAS\n",
    "-------------------------------------------------------------\"\"\"\n",
    "# Bibliotecas para tabelas e operações numéricas\n",
    "import csv\n",
    "import numpy as np\n",
    "import pandas as pd\n",
    "\n",
    "# Biblioteca OS\n",
    "from datetime import datetime\n",
    "\n",
    "# Bibliotecas gráficas\n",
    "import matplotlib.pyplot as plt\n",
    "import seaborn as sns\n",
    "\n",
    "# Configura o formato de exibição gráfica da biblioteca Seaborn\n",
    "sns.set_context('paper')\n",
    "sns.set_theme(style=\"whitegrid\")\n",
    "\n",
    "# Biblioteca para acessar a Base de Dados Scopus\n",
    "from pybliometrics.scopus import config, AbstractRetrieval, ScopusSearch\n",
    "from pybliometrics.scopus.exception import Scopus404Error, Scopus429Error"
   ]
  },
  {
   "cell_type": "markdown",
   "metadata": {},
   "source": [
    "### Etapa 2: Configurando acesso a base de dados da Scopus\n",
    "<hr />\n",
    "\n",
    "<p style=\"text-align: justify;\">A próxima etapa do código consiste em fornecer acesso ao programa à base de dados da <b>Scopus</b>. Isto é feito configurando a chave de acesso obtida na <code>API</code> da Scopus. Uma chave de acesso pode ser obtida <a href=\"https://dev.elsevier.com/\">aqui</a>, clicando no botão <i>\"I want an API Key\"</i>. Após preencher um cadastro informando email e finalidade de uso, você receberá uma combinação alfa-numérica. Entre com essa combinação na variável <code>_keys</code>. Além disso, dependendo da rede em que você irá rodar o programa, apenas uma parcela das informações sobre os manuscritos estarão disponíveis. Por padrão, redes sem assinatura da <b>Scopus</b> fornecem apenas informações básicas sobre o artigo. Utilize a variável <code>api_view</code> para configurar o nível de acesso que você possui na plataforma <b>Scopus</b>.<p>"
   ]
  },
  {
   "cell_type": "code",
   "execution_count": 3,
   "metadata": {},
   "outputs": [],
   "source": [
    "# Configurando a chave de acesso na API da Scopus.\n",
    "_keys = [\"chave de acesso aqui\"]\n",
    "config[\"Authentication\"][\"APIKey\"] = _keys.pop()\n",
    "api_view = \"META\""
   ]
  },
  {
   "cell_type": "markdown",
   "metadata": {},
   "source": [
    "<p style=\"text-align: justify;\">Quando utilizando pela primeira vez o programa, é preciso que o arquivo de configuração com a chave de acesso seja criado. Após isto, não há necessidade de criar novos arquivos de configuração para realizar buscas no sistema.<p>"
   ]
  },
  {
   "cell_type": "code",
   "execution_count": 4,
   "metadata": {},
   "outputs": [],
   "source": [
    "# Descomente a próxima linha para configurar a chave de acesso durante a primeira execução do programa.\n",
    "# create_config()"
   ]
  },
  {
   "cell_type": "markdown",
   "metadata": {},
   "source": [
    "<p style=\"text-align: justify;\">A biblioteca <code>pybliometrics</code> fornece uma função específica para extrair as informações básicas sobre um artigo dado o seu código de identificação (EID) na <b>Scopus</b>. Para uma lista de artigos, porém, pode ser mais interessante armazenar todas essas informações em uma tabela. Desta forma, estas informações podem ser visualizadas em programas como o Excel ou OpenCalc. Para isto, utilizaremos então uma função local que, dada uma lista contendo os códigos de identificação dos artigos, são realizadas consultas recorrentes à base de dados, e as informações são então armazenadas em um <code>dataframe</code>.<p>"
   ]
  },
  {
   "cell_type": "code",
   "execution_count": 5,
   "metadata": {},
   "outputs": [],
   "source": [
    "# Função para coletar informações dos artigos.\n",
    "def coletar_artigos(eids_documentos, api_view):\n",
    "    # Inicializa uma lista de dados vazia {data}; para cada entrada na lista de artigos obtidos\n",
    "    # cria um dicionário para armazenar as informações específicas sobre o artigo e\n",
    "    # armazena nessa lista\n",
    "    data = []\n",
    "    for key in eids_documentos:\n",
    "        record = {}\n",
    "        error = True\n",
    "        while error:\n",
    "            try:\n",
    "                paper = AbstractRetrieval(key, id_type=\"eid\", view=api_view, refresh=True)\n",
    "                error = False\n",
    "                # Informações básicas.\n",
    "                record[\"id\"] = paper.identifier\n",
    "                record[\"doi\"] = paper.doi\n",
    "                record[\"eid\"] = paper.eid\n",
    "                record[\"pii\"] = paper.pii\n",
    "                record[\"pubmed_id\"] = paper.pubmed_id\n",
    "                record[\"titulo\"] = paper.title\n",
    "                record[\"resumo\"] = paper.abstract\n",
    "                record[\"descricao\"] = paper.description\n",
    "                record[\"data_publicacao\"] = datetime.strptime(paper.coverDate, \"%Y-%m-%d\").date() \\\n",
    "                                            if paper.coverDate else None\n",
    "                record[\"numero_citacao\"] = paper.citedby_count\n",
    "                record[\"idioma\"] = paper.language\n",
    "                record[\"tipo_publicacao\"] = paper.aggregationType\n",
    "                record[\"tipo_fonte\"] = paper.srctype\n",
    "                record[\"palavras_chaves\"] = tuple(paper.authkeywords) if paper.authkeywords else None\n",
    "                record[\"termos_indice\"] = tuple(paper.idxterms) if paper.idxterms else None\n",
    "                record[\"issn\"] = paper.issn\n",
    "\n",
    "                try:\n",
    "                    record[\"isbn\"] = \" \".join(paper.isbn) if type(paper.isbn) == tuple else paper.isbn\n",
    "                except TypeError:\n",
    "                    record[\"isbn\"] = None\n",
    "\n",
    "                # Informações sobre a Conferencia e/ou Revista.\n",
    "                record[\"conf_loc\"] = paper.conflocation\n",
    "                record[\"conferencia_nome\"] = paper.confname\n",
    "                record[\"revista_nome\"] = paper.publicationName\n",
    "                record[\"revista_ender\"] = paper.publisheraddress\n",
    "                record[\"titulo_ed\"] = paper.issuetitle\n",
    "                record[\"publis\"] = paper.publisher\n",
    "\n",
    "                # Informações sobre afiliação.\n",
    "                record[\"affiliacoes\"] = tuple(\n",
    "                    [{\"id\": affil.id if affil and affil.id else None,\n",
    "                      \"affiliacao\": affil.name if affil and affil.name else None,\n",
    "                      \"pais\": affil.country if affil and affil.country else None}\n",
    "                     for affil in paper.affiliation]) if paper.affiliation else None\n",
    "\n",
    "                # Informações sobre os autores.\n",
    "                record[\"autores\"] = tuple(\n",
    "                    [{\"id\": author.auid if author and author.auid else None,\n",
    "                      \"nome\": \"{} {}\".format(author.given_name, author.surname) \\\n",
    "                            if author and author.given_name and author.surname else None}\n",
    "                     for author in paper.authors]) if paper.authors else None\n",
    "\n",
    "                record[\"autores_affil\"] = tuple(\n",
    "                    [{\"id\": author.auid if author and author.auid else None,\n",
    "                      \"nome\": \"{} {}\".format(author.given_name, author.surname) \\\n",
    "                            if author and author.given_name and author.surname else None,\n",
    "                      \"affil_id\": author.affiliation_id if author and author.affiliation_id else None,\n",
    "                      \"affiliacao\": author.organization if author and author.organization else None,\n",
    "                      \"pais\": author.country if author and author.country else None}\n",
    "                     for author in paper.authorgroup]) if paper.authorgroup else None\n",
    "\n",
    "                # Informações sobre referencias.\n",
    "                record[\"ref_count\"] = paper.refcount if paper.refcount else None\n",
    "                record[\"references\"] = tuple([{\"id\": ref.id if ref and ref.id else None,\n",
    "                                            \"titulo\": ref.title if ref and ref.title else None,\n",
    "                                            \"doi\": ref.doi if ref and ref.doi else None,\n",
    "                                            \"autores\": ref.authors if ref and ref.authors else None}\n",
    "                                    for ref in paper.references]) if paper.references else None\n",
    "\n",
    "            except Scopus404Error:\n",
    "                record[\"id\"] = key\n",
    "                print(key)\n",
    "                error = False\n",
    "            except Scopus429Error:\n",
    "                # Removing the last item in _keys to assign it as new API key.\n",
    "                config[\"Authentication\"][\"APIKey\"] = _keys.pop()\n",
    "        data.append(record)\n",
    "        \n",
    "    df = pd.DataFrame(data)\n",
    "    \n",
    "    return df"
   ]
  },
  {
   "cell_type": "markdown",
   "metadata": {},
   "source": [
    "### Etapa 3: Efetuando a pesquisa à base de dados\n",
    "<hr />\n",
    "\n",
    "<p style=\"text-align: justify;\">Uma vez configurado o ambiente para pesquisa na <code>API</code> da <b>Scopus</b>, a próxima etapa consiste na escolha dos critérios para pesquisa e consulta à base de dados. A <code>API</code> fornece vários campos de busca que podem ser consultados <a href=\"http://schema.elsevier.com/dtds/document/bkapi/search/SCOPUSSearchTips.htm\">aqui</a>; para nosso exemplo, iremos utilizar apenas os seguintes campos:<p>\n",
    "\n",
    "<table>\n",
    "    <thead>\n",
    "        <tr>\n",
    "            <th style=\"text-align: center;\">Campo</th>\n",
    "            <th style=\"text-align: center;\">Descrição</th>\n",
    "        </tr>\n",
    "    </thead>\n",
    "    <tbody>\n",
    "        <tr><td style=\"text-align: center;\">TITLE-ABS-KEY</td>\n",
    "            <td style=\"text-align: center;\">Pesquisa no resumo, palavras-chave e título do documento se a(s) palavra(s) existe(m).</td></tr>\n",
    "        <tr><td style=\"text-align: center;\">LANGUAGE</td>\n",
    "            <td style=\"text-align: center;\">O idioma em que o documento original foi escrito.</td></tr>\n",
    "        <tr><td style=\"text-align: center;\">PUBYEAR</td>\n",
    "            <td style=\"text-align: center;\">O ano em que o documento foi publicado. Exige o uso de BEF para artigos publicados antes do ano indicado, AFT para artigos publicados após o ano indicado, ou IS para artigos publicados no ano indicado</td></tr>\n",
    "    </tbody>\n",
    "</table>"
   ]
  },
  {
   "cell_type": "markdown",
   "metadata": {},
   "source": [
    "<p style=\"text-align: justify;\">Para a nossa pesquisa, nós desejamos artigos que abordem o uso de sensoriamento remoto (<b>condição 1</b>) aplicado ao monitoramento e avaliação de áreas de conservação (<b>condição 2</b>) no Brasil (<b>condição 3</b>). Sendo assim, precisamos escolher as palavras-chaves na busca que representem o máximo possível dessas 3 condições. Além disso, nós limitaremos a nossa busca para artigos publicados em inglês ou português, no intervalo de tempo entre 2000 e 2020. A sentença contendo a busca deve então utilizar a seguinte forma:</p>\n",
    "\n",
    "<blockquote><p style=\"text-align: center;\">TITLE-ABS-KEY(condição 1)<br>AND TITLE-ABS-KEY(condição 2)<br>AND TITLE-ABS-KEY(condição 3)<br>AND PUBYEAR AFT 1999 AND PUBYEAR BEF 2021<br>AND LANGUAGE(english OR portuguese)</p></blockquote>\n",
    "\n",
    "<p>O operador <code>AND</code> indica que todas as condições devem ser antendidas, enquanto o operador <code>OR</code> indica que pelo menos uma das condições deve ser satisfeita. Para a condição 1, foram escolhidas as palavras: \"protected area\" ou \"conservation\" ou \"ecology\" ou \"marine protected\" ou \"national forest\"; qualquer destas palavras (ou grupo de palavras) presente no título/resumo/palavras-chaves do artigo será considerada válida. Para a condição 2, foram escolhidas as palavras: \"remote sensing\" ou \"earth observation\" ou \"Landsat\" ou \"Lidar\" ou \"MODIS\" ou \"Radar\". Para a condição 3, foram escolhidas as palavras: \"Brazil\" ou \"Brasil\".</p>"
   ]
  },
  {
   "cell_type": "code",
   "execution_count": 6,
   "metadata": {},
   "outputs": [],
   "source": [
    "# Configurando os critérios de pesquisa.\n",
    "query = 'TITLE-ABS-KEY(\"protected area\" OR \"conservation\" OR \"ecology\" OR \"marine protected\" OR \"national forest\")' \\\n",
    "        ' AND TITLE-ABS-KEY(\"remote sensing\" OR \"earth observation\" OR \"Landsat\" OR \"Lidar\" OR \"MODIS\" OR \"Radar\")' \\\n",
    "        ' AND TITLE-ABS-KEY(\"Brazil\" OR \"Brasil\")' \\\n",
    "        ' AND PUBYEAR BEF 2021 AND PUBYEAR AFT 1999' \\\n",
    "        ' AND LANGUAGE(english OR portuguese)'"
   ]
  },
  {
   "cell_type": "markdown",
   "metadata": {},
   "source": [
    "<p style=\"text-align: justify;\">O próximo passo consiste de realizar uma pesquisa à base de dados utilizando os critérios de busca definidos anteriormente. Para isso utilizamos a função <code>ScopusSearch</code>. Os parâmetros da função são:<p>\n",
    " <ul>\n",
    "  <li>uma string contendo os dados da pesquisa, no nosso caso <code>query</code>;</li>\n",
    "  <li><code>max_entries</code>, se desejamos limitar o número de resultados da pesquisa (em nosso caso <code>None</code>);</li>\n",
    "     <li><code>subscriber</code>, se o acesso à <b>Scopus</b> é realizado a partir de uma rede com acesso total (<code>False</code>);</li>\n",
    "  <li><code>verbose</code>, se queremos imprimir na tela uma barra de progresso do download das informações (<code>True</code>).</li>\n",
    "</ul>"
   ]
  },
  {
   "cell_type": "code",
   "execution_count": 7,
   "metadata": {},
   "outputs": [
    {
     "name": "stdout",
     "output_type": "stream",
     "text": [
      "Número total de publicações: 494.\n"
     ]
    }
   ],
   "source": [
    "# Cria um objeto de pesquisa ScopusSearch contendo as informações para busca.\n",
    "scopus = ScopusSearch(query, max_entries=None, subscriber=False, verbose=True)\n",
    "\n",
    "# Retorna o número de registros coletados pela API.\n",
    "print(\"Número total de publicações: {}.\".format(scopus.get_results_size()))"
   ]
  },
  {
   "cell_type": "markdown",
   "metadata": {},
   "source": [
    "<p style=\"text-align: justify;\">Uma vez que a busca tenha sido executada, o próximo passo é extrair os códigos de identificação dos artigos em uma lista e utilizar a função local <code>coletar_artigos()</code> para extrair todas as informações dos artigos. <span style=\"color: #F62817;\"><b>Atenção</b></span>: a pesquisa pode demorar alguns minutos, dependendo do número de publicações identificadas. Essas informaçãos serão armazenadas em uma tabela <code>dataframe</code> e podemos, por exemplo, visualizar os 15 artigos mais citados sobre o tema.</p>"
   ]
  },
  {
   "cell_type": "code",
   "execution_count": 8,
   "metadata": {},
   "outputs": [
    {
     "data": {
      "text/html": [
       "<style  type=\"text/css\" >\n",
       "#T_2d67f408_375e_11eb_bcc3_80ee7356e6c6row0_col0,#T_2d67f408_375e_11eb_bcc3_80ee7356e6c6row0_col1,#T_2d67f408_375e_11eb_bcc3_80ee7356e6c6row0_col2,#T_2d67f408_375e_11eb_bcc3_80ee7356e6c6row0_col3,#T_2d67f408_375e_11eb_bcc3_80ee7356e6c6row0_col4,#T_2d67f408_375e_11eb_bcc3_80ee7356e6c6row1_col0,#T_2d67f408_375e_11eb_bcc3_80ee7356e6c6row1_col1,#T_2d67f408_375e_11eb_bcc3_80ee7356e6c6row1_col2,#T_2d67f408_375e_11eb_bcc3_80ee7356e6c6row1_col3,#T_2d67f408_375e_11eb_bcc3_80ee7356e6c6row1_col4,#T_2d67f408_375e_11eb_bcc3_80ee7356e6c6row2_col0,#T_2d67f408_375e_11eb_bcc3_80ee7356e6c6row2_col1,#T_2d67f408_375e_11eb_bcc3_80ee7356e6c6row2_col2,#T_2d67f408_375e_11eb_bcc3_80ee7356e6c6row2_col3,#T_2d67f408_375e_11eb_bcc3_80ee7356e6c6row2_col4,#T_2d67f408_375e_11eb_bcc3_80ee7356e6c6row3_col0,#T_2d67f408_375e_11eb_bcc3_80ee7356e6c6row3_col1,#T_2d67f408_375e_11eb_bcc3_80ee7356e6c6row3_col2,#T_2d67f408_375e_11eb_bcc3_80ee7356e6c6row3_col3,#T_2d67f408_375e_11eb_bcc3_80ee7356e6c6row3_col4,#T_2d67f408_375e_11eb_bcc3_80ee7356e6c6row4_col0,#T_2d67f408_375e_11eb_bcc3_80ee7356e6c6row4_col1,#T_2d67f408_375e_11eb_bcc3_80ee7356e6c6row4_col2,#T_2d67f408_375e_11eb_bcc3_80ee7356e6c6row4_col3,#T_2d67f408_375e_11eb_bcc3_80ee7356e6c6row4_col4,#T_2d67f408_375e_11eb_bcc3_80ee7356e6c6row5_col0,#T_2d67f408_375e_11eb_bcc3_80ee7356e6c6row5_col1,#T_2d67f408_375e_11eb_bcc3_80ee7356e6c6row5_col2,#T_2d67f408_375e_11eb_bcc3_80ee7356e6c6row5_col3,#T_2d67f408_375e_11eb_bcc3_80ee7356e6c6row5_col4,#T_2d67f408_375e_11eb_bcc3_80ee7356e6c6row6_col0,#T_2d67f408_375e_11eb_bcc3_80ee7356e6c6row6_col1,#T_2d67f408_375e_11eb_bcc3_80ee7356e6c6row6_col2,#T_2d67f408_375e_11eb_bcc3_80ee7356e6c6row6_col3,#T_2d67f408_375e_11eb_bcc3_80ee7356e6c6row6_col4,#T_2d67f408_375e_11eb_bcc3_80ee7356e6c6row7_col0,#T_2d67f408_375e_11eb_bcc3_80ee7356e6c6row7_col1,#T_2d67f408_375e_11eb_bcc3_80ee7356e6c6row7_col2,#T_2d67f408_375e_11eb_bcc3_80ee7356e6c6row7_col3,#T_2d67f408_375e_11eb_bcc3_80ee7356e6c6row7_col4,#T_2d67f408_375e_11eb_bcc3_80ee7356e6c6row8_col0,#T_2d67f408_375e_11eb_bcc3_80ee7356e6c6row8_col1,#T_2d67f408_375e_11eb_bcc3_80ee7356e6c6row8_col2,#T_2d67f408_375e_11eb_bcc3_80ee7356e6c6row8_col3,#T_2d67f408_375e_11eb_bcc3_80ee7356e6c6row8_col4,#T_2d67f408_375e_11eb_bcc3_80ee7356e6c6row9_col0,#T_2d67f408_375e_11eb_bcc3_80ee7356e6c6row9_col1,#T_2d67f408_375e_11eb_bcc3_80ee7356e6c6row9_col2,#T_2d67f408_375e_11eb_bcc3_80ee7356e6c6row9_col3,#T_2d67f408_375e_11eb_bcc3_80ee7356e6c6row9_col4,#T_2d67f408_375e_11eb_bcc3_80ee7356e6c6row10_col0,#T_2d67f408_375e_11eb_bcc3_80ee7356e6c6row10_col1,#T_2d67f408_375e_11eb_bcc3_80ee7356e6c6row10_col2,#T_2d67f408_375e_11eb_bcc3_80ee7356e6c6row10_col3,#T_2d67f408_375e_11eb_bcc3_80ee7356e6c6row10_col4,#T_2d67f408_375e_11eb_bcc3_80ee7356e6c6row11_col0,#T_2d67f408_375e_11eb_bcc3_80ee7356e6c6row11_col1,#T_2d67f408_375e_11eb_bcc3_80ee7356e6c6row11_col2,#T_2d67f408_375e_11eb_bcc3_80ee7356e6c6row11_col3,#T_2d67f408_375e_11eb_bcc3_80ee7356e6c6row11_col4,#T_2d67f408_375e_11eb_bcc3_80ee7356e6c6row12_col0,#T_2d67f408_375e_11eb_bcc3_80ee7356e6c6row12_col1,#T_2d67f408_375e_11eb_bcc3_80ee7356e6c6row12_col2,#T_2d67f408_375e_11eb_bcc3_80ee7356e6c6row12_col3,#T_2d67f408_375e_11eb_bcc3_80ee7356e6c6row12_col4,#T_2d67f408_375e_11eb_bcc3_80ee7356e6c6row13_col0,#T_2d67f408_375e_11eb_bcc3_80ee7356e6c6row13_col1,#T_2d67f408_375e_11eb_bcc3_80ee7356e6c6row13_col2,#T_2d67f408_375e_11eb_bcc3_80ee7356e6c6row13_col3,#T_2d67f408_375e_11eb_bcc3_80ee7356e6c6row13_col4,#T_2d67f408_375e_11eb_bcc3_80ee7356e6c6row14_col0,#T_2d67f408_375e_11eb_bcc3_80ee7356e6c6row14_col1,#T_2d67f408_375e_11eb_bcc3_80ee7356e6c6row14_col2,#T_2d67f408_375e_11eb_bcc3_80ee7356e6c6row14_col3,#T_2d67f408_375e_11eb_bcc3_80ee7356e6c6row14_col4{\n",
       "            text-align:  left;\n",
       "        }</style><table id=\"T_2d67f408_375e_11eb_bcc3_80ee7356e6c6\" ><thead>    <tr>        <th class=\"col_heading level0 col0\" >titulo</th>        <th class=\"col_heading level0 col1\" >data_publicacao</th>        <th class=\"col_heading level0 col2\" >doi</th>        <th class=\"col_heading level0 col3\" >revista_nome</th>        <th class=\"col_heading level0 col4\" >numero_citacao</th>    </tr></thead><tbody>\n",
       "                <tr>\n",
       "                                <td id=\"T_2d67f408_375e_11eb_bcc3_80ee7356e6c6row0_col0\" class=\"data row0 col0\" >Köppen's climate classification map for Brazil</td>\n",
       "                        <td id=\"T_2d67f408_375e_11eb_bcc3_80ee7356e6c6row0_col1\" class=\"data row0 col1\" >2013-01-01</td>\n",
       "                        <td id=\"T_2d67f408_375e_11eb_bcc3_80ee7356e6c6row0_col2\" class=\"data row0 col2\" >10.1127/0941-2948/2013/0507</td>\n",
       "                        <td id=\"T_2d67f408_375e_11eb_bcc3_80ee7356e6c6row0_col3\" class=\"data row0 col3\" >Meteorologische Zeitschrift</td>\n",
       "                        <td id=\"T_2d67f408_375e_11eb_bcc3_80ee7356e6c6row0_col4\" class=\"data row0 col4\" >3013</td>\n",
       "            </tr>\n",
       "            <tr>\n",
       "                                <td id=\"T_2d67f408_375e_11eb_bcc3_80ee7356e6c6row1_col0\" class=\"data row1 col0\" >Ecology: Selective logging in the Brazilian Amazon</td>\n",
       "                        <td id=\"T_2d67f408_375e_11eb_bcc3_80ee7356e6c6row1_col1\" class=\"data row1 col1\" >2005-10-21</td>\n",
       "                        <td id=\"T_2d67f408_375e_11eb_bcc3_80ee7356e6c6row1_col2\" class=\"data row1 col2\" >10.1126/science.1118051</td>\n",
       "                        <td id=\"T_2d67f408_375e_11eb_bcc3_80ee7356e6c6row1_col3\" class=\"data row1 col3\" >Science</td>\n",
       "                        <td id=\"T_2d67f408_375e_11eb_bcc3_80ee7356e6c6row1_col4\" class=\"data row1 col4\" >653</td>\n",
       "            </tr>\n",
       "            <tr>\n",
       "                                <td id=\"T_2d67f408_375e_11eb_bcc3_80ee7356e6c6row2_col0\" class=\"data row2 col0\" >Quantification of global gross forest cover loss</td>\n",
       "                        <td id=\"T_2d67f408_375e_11eb_bcc3_80ee7356e6c6row2_col1\" class=\"data row2 col1\" >2010-05-11</td>\n",
       "                        <td id=\"T_2d67f408_375e_11eb_bcc3_80ee7356e6c6row2_col2\" class=\"data row2 col2\" >10.1073/pnas.0912668107</td>\n",
       "                        <td id=\"T_2d67f408_375e_11eb_bcc3_80ee7356e6c6row2_col3\" class=\"data row2 col3\" >Proceedings of the National Academy of Sciences of the United States of America</td>\n",
       "                        <td id=\"T_2d67f408_375e_11eb_bcc3_80ee7356e6c6row2_col4\" class=\"data row2 col4\" >520</td>\n",
       "            </tr>\n",
       "            <tr>\n",
       "                                <td id=\"T_2d67f408_375e_11eb_bcc3_80ee7356e6c6row3_col0\" class=\"data row3 col0\" >DINAMICA - A stochastic cellular automata model designed to simulate the landscape dynamics in an Amazonian colonization frontier</td>\n",
       "                        <td id=\"T_2d67f408_375e_11eb_bcc3_80ee7356e6c6row3_col1\" class=\"data row3 col1\" >2002-09-01</td>\n",
       "                        <td id=\"T_2d67f408_375e_11eb_bcc3_80ee7356e6c6row3_col2\" class=\"data row3 col2\" >10.1016/S0304-3800(02)00059-5</td>\n",
       "                        <td id=\"T_2d67f408_375e_11eb_bcc3_80ee7356e6c6row3_col3\" class=\"data row3 col3\" >Ecological Modelling</td>\n",
       "                        <td id=\"T_2d67f408_375e_11eb_bcc3_80ee7356e6c6row3_col4\" class=\"data row3 col4\" >341</td>\n",
       "            </tr>\n",
       "            <tr>\n",
       "                                <td id=\"T_2d67f408_375e_11eb_bcc3_80ee7356e6c6row4_col0\" class=\"data row4 col0\" >Forest fragmentation and edge effects from deforestation and selective logging in the Brazilian Amazon</td>\n",
       "                        <td id=\"T_2d67f408_375e_11eb_bcc3_80ee7356e6c6row4_col1\" class=\"data row4 col1\" >2008-07-01</td>\n",
       "                        <td id=\"T_2d67f408_375e_11eb_bcc3_80ee7356e6c6row4_col2\" class=\"data row4 col2\" >10.1016/j.biocon.2008.04.024</td>\n",
       "                        <td id=\"T_2d67f408_375e_11eb_bcc3_80ee7356e6c6row4_col3\" class=\"data row4 col3\" >Biological Conservation</td>\n",
       "                        <td id=\"T_2d67f408_375e_11eb_bcc3_80ee7356e6c6row4_col4\" class=\"data row4 col4\" >285</td>\n",
       "            </tr>\n",
       "            <tr>\n",
       "                                <td id=\"T_2d67f408_375e_11eb_bcc3_80ee7356e6c6row5_col0\" class=\"data row5 col0\" >Fire as a large-scale edge effect in Amazonian forests</td>\n",
       "                        <td id=\"T_2d67f408_375e_11eb_bcc3_80ee7356e6c6row5_col1\" class=\"data row5 col1\" >2002-01-01</td>\n",
       "                        <td id=\"T_2d67f408_375e_11eb_bcc3_80ee7356e6c6row5_col2\" class=\"data row5 col2\" >10.1017/S0266467402002237</td>\n",
       "                        <td id=\"T_2d67f408_375e_11eb_bcc3_80ee7356e6c6row5_col3\" class=\"data row5 col3\" >Journal of Tropical Ecology</td>\n",
       "                        <td id=\"T_2d67f408_375e_11eb_bcc3_80ee7356e6c6row5_col4\" class=\"data row5 col4\" >279</td>\n",
       "            </tr>\n",
       "            <tr>\n",
       "                                <td id=\"T_2d67f408_375e_11eb_bcc3_80ee7356e6c6row6_col0\" class=\"data row6 col0\" >Mapping the world's intact forest landscapes by remote sensing</td>\n",
       "                        <td id=\"T_2d67f408_375e_11eb_bcc3_80ee7356e6c6row6_col1\" class=\"data row6 col1\" >2008-01-01</td>\n",
       "                        <td id=\"T_2d67f408_375e_11eb_bcc3_80ee7356e6c6row6_col2\" class=\"data row6 col2\" >10.5751/ES-02670-130251</td>\n",
       "                        <td id=\"T_2d67f408_375e_11eb_bcc3_80ee7356e6c6row6_col3\" class=\"data row6 col3\" >Ecology and Society</td>\n",
       "                        <td id=\"T_2d67f408_375e_11eb_bcc3_80ee7356e6c6row6_col4\" class=\"data row6 col4\" >272</td>\n",
       "            </tr>\n",
       "            <tr>\n",
       "                                <td id=\"T_2d67f408_375e_11eb_bcc3_80ee7356e6c6row7_col0\" class=\"data row7 col0\" >Extent and conservation of tropical dry forests in the Americas</td>\n",
       "                        <td id=\"T_2d67f408_375e_11eb_bcc3_80ee7356e6c6row7_col1\" class=\"data row7 col1\" >2010-01-01</td>\n",
       "                        <td id=\"T_2d67f408_375e_11eb_bcc3_80ee7356e6c6row7_col2\" class=\"data row7 col2\" >10.1016/j.biocon.2009.09.020</td>\n",
       "                        <td id=\"T_2d67f408_375e_11eb_bcc3_80ee7356e6c6row7_col3\" class=\"data row7 col3\" >Biological Conservation</td>\n",
       "                        <td id=\"T_2d67f408_375e_11eb_bcc3_80ee7356e6c6row7_col4\" class=\"data row7 col4\" >267</td>\n",
       "            </tr>\n",
       "            <tr>\n",
       "                                <td id=\"T_2d67f408_375e_11eb_bcc3_80ee7356e6c6row8_col0\" class=\"data row8 col0\" >Condition and fate of logged forests in the Brazilian Amazon</td>\n",
       "                        <td id=\"T_2d67f408_375e_11eb_bcc3_80ee7356e6c6row8_col1\" class=\"data row8 col1\" >2006-08-22</td>\n",
       "                        <td id=\"T_2d67f408_375e_11eb_bcc3_80ee7356e6c6row8_col2\" class=\"data row8 col2\" >10.1073/pnas.0604093103</td>\n",
       "                        <td id=\"T_2d67f408_375e_11eb_bcc3_80ee7356e6c6row8_col3\" class=\"data row8 col3\" >Proceedings of the National Academy of Sciences of the United States of America</td>\n",
       "                        <td id=\"T_2d67f408_375e_11eb_bcc3_80ee7356e6c6row8_col4\" class=\"data row8 col4\" >229</td>\n",
       "            </tr>\n",
       "            <tr>\n",
       "                                <td id=\"T_2d67f408_375e_11eb_bcc3_80ee7356e6c6row9_col0\" class=\"data row9 col0\" >Relationships between forest stand parameters and Landsat TM spectral responses in the Brazilian Amazon Basin</td>\n",
       "                        <td id=\"T_2d67f408_375e_11eb_bcc3_80ee7356e6c6row9_col1\" class=\"data row9 col1\" >2004-08-23</td>\n",
       "                        <td id=\"T_2d67f408_375e_11eb_bcc3_80ee7356e6c6row9_col2\" class=\"data row9 col2\" >10.1016/j.foreco.2004.03.048</td>\n",
       "                        <td id=\"T_2d67f408_375e_11eb_bcc3_80ee7356e6c6row9_col3\" class=\"data row9 col3\" >Forest Ecology and Management</td>\n",
       "                        <td id=\"T_2d67f408_375e_11eb_bcc3_80ee7356e6c6row9_col4\" class=\"data row9 col4\" >220</td>\n",
       "            </tr>\n",
       "            <tr>\n",
       "                                <td id=\"T_2d67f408_375e_11eb_bcc3_80ee7356e6c6row10_col0\" class=\"data row10 col0\" >Assessing the effects of urbanization on annual runoff and flood events using an integrated hydrological modeling system for Qinhuai River basin, China</td>\n",
       "                        <td id=\"T_2d67f408_375e_11eb_bcc3_80ee7356e6c6row10_col1\" class=\"data row10 col1\" >2012-09-25</td>\n",
       "                        <td id=\"T_2d67f408_375e_11eb_bcc3_80ee7356e6c6row10_col2\" class=\"data row10 col2\" >10.1016/j.jhydrol.2012.06.057</td>\n",
       "                        <td id=\"T_2d67f408_375e_11eb_bcc3_80ee7356e6c6row10_col3\" class=\"data row10 col3\" >Journal of Hydrology</td>\n",
       "                        <td id=\"T_2d67f408_375e_11eb_bcc3_80ee7356e6c6row10_col4\" class=\"data row10 col4\" >189</td>\n",
       "            </tr>\n",
       "            <tr>\n",
       "                                <td id=\"T_2d67f408_375e_11eb_bcc3_80ee7356e6c6row11_col0\" class=\"data row11 col0\" >Land change in the Brazilian Savanna (Cerrado), 1986-2002: Comparative analysis and implications for land-use policy</td>\n",
       "                        <td id=\"T_2d67f408_375e_11eb_bcc3_80ee7356e6c6row11_col1\" class=\"data row11 col1\" >2008-10-01</td>\n",
       "                        <td id=\"T_2d67f408_375e_11eb_bcc3_80ee7356e6c6row11_col2\" class=\"data row11 col2\" >10.1016/j.landusepol.2007.11.008</td>\n",
       "                        <td id=\"T_2d67f408_375e_11eb_bcc3_80ee7356e6c6row11_col3\" class=\"data row11 col3\" >Land Use Policy</td>\n",
       "                        <td id=\"T_2d67f408_375e_11eb_bcc3_80ee7356e6c6row11_col4\" class=\"data row11 col4\" >166</td>\n",
       "            </tr>\n",
       "            <tr>\n",
       "                                <td id=\"T_2d67f408_375e_11eb_bcc3_80ee7356e6c6row12_col0\" class=\"data row12 col0\" >Synergistic interactions between habitat fragmentation and fire in evergreen tropical forests</td>\n",
       "                        <td id=\"T_2d67f408_375e_11eb_bcc3_80ee7356e6c6row12_col1\" class=\"data row12 col1\" >2001-12-01</td>\n",
       "                        <td id=\"T_2d67f408_375e_11eb_bcc3_80ee7356e6c6row12_col2\" class=\"data row12 col2\" >10.1046/j.1523-1739.2001.01091.x</td>\n",
       "                        <td id=\"T_2d67f408_375e_11eb_bcc3_80ee7356e6c6row12_col3\" class=\"data row12 col3\" >Conservation Biology</td>\n",
       "                        <td id=\"T_2d67f408_375e_11eb_bcc3_80ee7356e6c6row12_col4\" class=\"data row12 col4\" >156</td>\n",
       "            </tr>\n",
       "            <tr>\n",
       "                                <td id=\"T_2d67f408_375e_11eb_bcc3_80ee7356e6c6row13_col0\" class=\"data row13 col0\" >Classifying successional forests using Landsat spectral properties and ecological characteristics in eastern Amazônia</td>\n",
       "                        <td id=\"T_2d67f408_375e_11eb_bcc3_80ee7356e6c6row13_col1\" class=\"data row13 col1\" >2003-11-15</td>\n",
       "                        <td id=\"T_2d67f408_375e_11eb_bcc3_80ee7356e6c6row13_col2\" class=\"data row13 col2\" >10.1016/j.rse.2002.09.002</td>\n",
       "                        <td id=\"T_2d67f408_375e_11eb_bcc3_80ee7356e6c6row13_col3\" class=\"data row13 col3\" >Remote Sensing of Environment</td>\n",
       "                        <td id=\"T_2d67f408_375e_11eb_bcc3_80ee7356e6c6row13_col4\" class=\"data row13 col4\" >153</td>\n",
       "            </tr>\n",
       "            <tr>\n",
       "                                <td id=\"T_2d67f408_375e_11eb_bcc3_80ee7356e6c6row14_col0\" class=\"data row14 col0\" >Land use, habitat integrity, and aquatic insect assemblages in Central Amazonian streams</td>\n",
       "                        <td id=\"T_2d67f408_375e_11eb_bcc3_80ee7356e6c6row14_col1\" class=\"data row14 col1\" >2008-11-01</td>\n",
       "                        <td id=\"T_2d67f408_375e_11eb_bcc3_80ee7356e6c6row14_col2\" class=\"data row14 col2\" >10.1007/s10750-008-9441-x</td>\n",
       "                        <td id=\"T_2d67f408_375e_11eb_bcc3_80ee7356e6c6row14_col3\" class=\"data row14 col3\" >Hydrobiologia</td>\n",
       "                        <td id=\"T_2d67f408_375e_11eb_bcc3_80ee7356e6c6row14_col4\" class=\"data row14 col4\" >152</td>\n",
       "            </tr>\n",
       "    </tbody></table>"
      ],
      "text/plain": [
       "<pandas.io.formats.style.Styler at 0x7fa3b8973090>"
      ]
     },
     "execution_count": 8,
     "metadata": {},
     "output_type": "execute_result"
    }
   ],
   "source": [
    "# Obtêm uma lista contendo todos os identificadores digitais (EID) resgatados da API durante a busca.\n",
    "eids_documentos = scopus.get_eids()\n",
    "\n",
    "# Coleta as informações sobre os artigos, a partir dos EID e da função auxiliar.\n",
    "df = coletar_artigos(eids_documentos, api_view)\n",
    "\n",
    "# Exibe as primeiras 10 entradas contendo o título, data de publicação e DOI dos manuscritos\n",
    "pd.options.display.max_colwidth = 200\n",
    "df.sort_values(by='numero_citacao', ascending=False, ignore_index=True)[[\"titulo\",\"data_publicacao\",\"doi\",\"revista_nome\",'numero_citacao']].head(15).style.set_properties(**{'text-align': 'left'}).hide_index()"
   ]
  },
  {
   "cell_type": "markdown",
   "metadata": {},
   "source": [
    "<p style=\"text-align: justify;\">Finalmente, utilizamos o método <code>to_csv</code> para salvar o <code>dataframe</code> em um arquivo <code>.csv</code>, que pode ser posteriormente visualizado e editado em qualquer software que trabalhe com planilhas (ou usando o próprio Python, como será visto adiante).<p>"
   ]
  },
  {
   "cell_type": "code",
   "execution_count": 9,
   "metadata": {},
   "outputs": [],
   "source": [
    "# Armazena todas as entradas em um arquivo .csv, para consulta posterior\n",
    "df.to_csv(\"data/resultado_pesquisa_scopus.csv\", index=False, quoting=csv.QUOTE_ALL)"
   ]
  },
  {
   "cell_type": "markdown",
   "metadata": {},
   "source": [
    "### Bônus: Visualizando o número de publicações por ano\n",
    "<hr />\n",
    "\n",
    "<p style=\"text-align: justify;\">Esse notebook teve como objetivo apresentar um método para elaboração de uma base intelectual utilizando a linguagem de programação Python. A próxima etapa é a análise das informações adquiridas de cada artigo na base de dados <b>Scopus</b>, e será realizada em um futuro notebook.</p>\n",
    "    \n",
    "<p style=\"text-align: justify;\">&nbsp;&nbsp;&nbsp;&nbsp;Para dar uma amostra prévia da utilidade de uma pesquisa bibliométrica, vamos visualizar a evolução no número de publicações em jornais especializados ao longo do período 2000-2020. A data de publicação de cada manuscrito pode ser vista na coluna <code>data_publicacao</code>. Vamos visualizar o conteúdo desta coluna:<p>"
   ]
  },
  {
   "cell_type": "code",
   "execution_count": 10,
   "metadata": {},
   "outputs": [
    {
     "data": {
      "text/plain": [
       "0      2020-11-01\n",
       "1      2020-11-01\n",
       "2      2020-11-01\n",
       "3      2020-11-01\n",
       "4      2020-10-01\n",
       "          ...    \n",
       "489    2000-01-01\n",
       "490    2000-01-01\n",
       "491    2000-01-01\n",
       "492    2000-01-01\n",
       "493    2000-01-01\n",
       "Name: data_publicacao, Length: 494, dtype: object"
      ]
     },
     "execution_count": 10,
     "metadata": {},
     "output_type": "execute_result"
    }
   ],
   "source": [
    "# Conteúdo da coluna \"data_publicacao\"\n",
    "df[\"data_publicacao\"]"
   ]
  },
  {
   "cell_type": "markdown",
   "metadata": {},
   "source": [
    "<p style=\"text-align: justify;\">Como pode ser visto acima, as datas de publicação estão no formato YYYY-MM-DD, onde YYYY representa o ano, MM o mês, e DD o dia. Além disso, o tipo do dado em cada célula na coluna é <code>object</code>. Para trabalhar com a informação de data, o melhor tipo de dado em Python é o <code>datetime</code>. Iremos então converter o conteúdo do dado na tabela:</p>"
   ]
  },
  {
   "cell_type": "code",
   "execution_count": 11,
   "metadata": {},
   "outputs": [
    {
     "data": {
      "text/plain": [
       "0     2020-11-01\n",
       "1     2020-11-01\n",
       "2     2020-11-01\n",
       "3     2020-11-01\n",
       "4     2020-10-01\n",
       "         ...    \n",
       "489   2000-01-01\n",
       "490   2000-01-01\n",
       "491   2000-01-01\n",
       "492   2000-01-01\n",
       "493   2000-01-01\n",
       "Name: data_publicacao, Length: 494, dtype: datetime64[ns]"
      ]
     },
     "execution_count": 11,
     "metadata": {},
     "output_type": "execute_result"
    }
   ],
   "source": [
    "# Converte o tipo de dado da coluna \"data_publicacao\" para datetime\n",
    "datetimes = pd.to_datetime(df[\"data_publicacao\"])    # realiza a conversão utilizando a função pd.to_datetime()\n",
    "df[\"data_publicacao\"] = datetimes                    # substitui o conteúdo original da coluna \"data_publicacao\"\n",
    "\n",
    "# Criamos uma nova coluna para armazenar apenas o ano da publicação\n",
    "df[\"ano_publicacao\"] = df[\"data_publicacao\"].dt.year\n",
    "\n",
    "# Conteúdo da coluna \"data_publicacao\" modificado\n",
    "df[\"data_publicacao\"]"
   ]
  },
  {
   "cell_type": "markdown",
   "metadata": {},
   "source": [
    "<p style=\"text-align: justify;\">O formato da data de publicação continua o mesmo, porém o tipo do dado agora é <code>datetime</code>. Para essa visualização (e também em análises futuras), iremos utilizar apenas as publicações do tipo artigo em jornais especializados. Essas publicações são marcadas na coluna <code>tipo_publicacao</code> como <i>Journal</i>.</p>"
   ]
  },
  {
   "cell_type": "code",
   "execution_count": 12,
   "metadata": {},
   "outputs": [],
   "source": [
    "# Filtra a base intelectual para conter apenas os trabalhos publicados em periódicos (categoria Journal)\n",
    "tipo_publ = df[\"tipo_publicacao\"].astype(str) == \"Journal\"   # O método .astype(str) converte o conteúdo da coluna em string\n",
    "df = df[tipo_publ].reset_index(drop=True)"
   ]
  },
  {
   "cell_type": "markdown",
   "metadata": {},
   "source": [
    "<p style=\"text-align: justify;\">Uma vez que adicionamos a coluna <code>ano_publicacao</code>, podemos agrupar todas as publicações realizadas em um mesmo ano utilizando a função <code>groupby</code> e aplicar em seguida o método <code>size()</code> para obter a série contendo o número de publicações por ano:<p>"
   ]
  },
  {
   "cell_type": "code",
   "execution_count": 13,
   "metadata": {},
   "outputs": [
    {
     "data": {
      "text/plain": [
       "ano_publicacao\n",
       "2000     1\n",
       "2001     6\n",
       "2002     5\n",
       "2003     8\n",
       "2004     7\n",
       "2005     9\n",
       "2006    13\n",
       "2007     8\n",
       "2008    15\n",
       "2009     7\n",
       "2010    15\n",
       "2011    17\n",
       "2012    23\n",
       "2013    20\n",
       "2014    25\n",
       "2015    29\n",
       "2016    30\n",
       "2017    36\n",
       "2018    41\n",
       "2019    50\n",
       "2020    42\n",
       "dtype: int64"
      ]
     },
     "execution_count": 13,
     "metadata": {},
     "output_type": "execute_result"
    }
   ],
   "source": [
    "# Conta o número de publicações por ano de publicação\n",
    "pub    = df.groupby(\"ano_publicacao\").size()\n",
    "# Exibe a série temporal de publicações por ano\n",
    "pub"
   ]
  },
  {
   "cell_type": "markdown",
   "metadata": {},
   "source": [
    "<p style=\"text-align: justify;\">A próxima etapa é criar um novo dataframe, chamado <code>df_plot</code>, contendo apenas as informações de ano de publicação e número de publicações naquele ano. Isto é feito extraindo os valores da série <code>pub</code> e depois atribuindo a cada linha no dataframe original (em uma nova coluna, <code>Count</code>) o número total de publicações naquele ano usando o método <code>assign</code>. Finalmente, removemos todas as linhas duplicadas na coluna <code>ano_publicacao</code> e fazemos um recorte do dataframe contendo apenas as colunas <code>ano_publicacao</code> e <code>Count</code>:<p>"
   ]
  },
  {
   "cell_type": "code",
   "execution_count": 14,
   "metadata": {},
   "outputs": [
    {
     "data": {
      "text/html": [
       "<div>\n",
       "<style scoped>\n",
       "    .dataframe tbody tr th:only-of-type {\n",
       "        vertical-align: middle;\n",
       "    }\n",
       "\n",
       "    .dataframe tbody tr th {\n",
       "        vertical-align: top;\n",
       "    }\n",
       "\n",
       "    .dataframe thead th {\n",
       "        text-align: right;\n",
       "    }\n",
       "</style>\n",
       "<table border=\"1\" class=\"dataframe\">\n",
       "  <thead>\n",
       "    <tr style=\"text-align: right;\">\n",
       "      <th></th>\n",
       "      <th>ano_publicacao</th>\n",
       "      <th>Count</th>\n",
       "    </tr>\n",
       "  </thead>\n",
       "  <tbody>\n",
       "    <tr>\n",
       "      <th>0</th>\n",
       "      <td>2000</td>\n",
       "      <td>1</td>\n",
       "    </tr>\n",
       "    <tr>\n",
       "      <th>1</th>\n",
       "      <td>2001</td>\n",
       "      <td>6</td>\n",
       "    </tr>\n",
       "    <tr>\n",
       "      <th>2</th>\n",
       "      <td>2002</td>\n",
       "      <td>5</td>\n",
       "    </tr>\n",
       "    <tr>\n",
       "      <th>3</th>\n",
       "      <td>2003</td>\n",
       "      <td>8</td>\n",
       "    </tr>\n",
       "    <tr>\n",
       "      <th>4</th>\n",
       "      <td>2004</td>\n",
       "      <td>7</td>\n",
       "    </tr>\n",
       "    <tr>\n",
       "      <th>5</th>\n",
       "      <td>2005</td>\n",
       "      <td>9</td>\n",
       "    </tr>\n",
       "    <tr>\n",
       "      <th>6</th>\n",
       "      <td>2006</td>\n",
       "      <td>13</td>\n",
       "    </tr>\n",
       "    <tr>\n",
       "      <th>7</th>\n",
       "      <td>2007</td>\n",
       "      <td>8</td>\n",
       "    </tr>\n",
       "    <tr>\n",
       "      <th>8</th>\n",
       "      <td>2008</td>\n",
       "      <td>15</td>\n",
       "    </tr>\n",
       "    <tr>\n",
       "      <th>9</th>\n",
       "      <td>2009</td>\n",
       "      <td>7</td>\n",
       "    </tr>\n",
       "    <tr>\n",
       "      <th>10</th>\n",
       "      <td>2010</td>\n",
       "      <td>15</td>\n",
       "    </tr>\n",
       "    <tr>\n",
       "      <th>11</th>\n",
       "      <td>2011</td>\n",
       "      <td>17</td>\n",
       "    </tr>\n",
       "    <tr>\n",
       "      <th>12</th>\n",
       "      <td>2012</td>\n",
       "      <td>23</td>\n",
       "    </tr>\n",
       "    <tr>\n",
       "      <th>13</th>\n",
       "      <td>2013</td>\n",
       "      <td>20</td>\n",
       "    </tr>\n",
       "    <tr>\n",
       "      <th>14</th>\n",
       "      <td>2014</td>\n",
       "      <td>25</td>\n",
       "    </tr>\n",
       "    <tr>\n",
       "      <th>15</th>\n",
       "      <td>2015</td>\n",
       "      <td>29</td>\n",
       "    </tr>\n",
       "    <tr>\n",
       "      <th>16</th>\n",
       "      <td>2016</td>\n",
       "      <td>30</td>\n",
       "    </tr>\n",
       "    <tr>\n",
       "      <th>17</th>\n",
       "      <td>2017</td>\n",
       "      <td>36</td>\n",
       "    </tr>\n",
       "    <tr>\n",
       "      <th>18</th>\n",
       "      <td>2018</td>\n",
       "      <td>41</td>\n",
       "    </tr>\n",
       "    <tr>\n",
       "      <th>19</th>\n",
       "      <td>2019</td>\n",
       "      <td>50</td>\n",
       "    </tr>\n",
       "    <tr>\n",
       "      <th>20</th>\n",
       "      <td>2020</td>\n",
       "      <td>42</td>\n",
       "    </tr>\n",
       "  </tbody>\n",
       "</table>\n",
       "</div>"
      ],
      "text/plain": [
       "    ano_publicacao  Count\n",
       "0             2000      1\n",
       "1             2001      6\n",
       "2             2002      5\n",
       "3             2003      8\n",
       "4             2004      7\n",
       "5             2005      9\n",
       "6             2006     13\n",
       "7             2007      8\n",
       "8             2008     15\n",
       "9             2009      7\n",
       "10            2010     15\n",
       "11            2011     17\n",
       "12            2012     23\n",
       "13            2013     20\n",
       "14            2014     25\n",
       "15            2015     29\n",
       "16            2016     30\n",
       "17            2017     36\n",
       "18            2018     41\n",
       "19            2019     50\n",
       "20            2020     42"
      ]
     },
     "execution_count": 14,
     "metadata": {},
     "output_type": "execute_result"
    }
   ],
   "source": [
    "pub    = pub.values\n",
    "df_pub = df.drop_duplicates(subset=\"ano_publicacao\").assign(Count=np.flipud(pub))\n",
    "\n",
    "# Cria uma nova tabela a partir da contagem de publicações e reorganiza por ordem crescente dos anos\n",
    "df_plot = df_pub[[\"ano_publicacao\",\"Count\"]].copy()\n",
    "df_plot = df_plot.sort_values(by=['ano_publicacao']).reset_index(drop=True)\n",
    "\n",
    "# Exibe o novo dataframe\n",
    "df_plot"
   ]
  },
  {
   "cell_type": "markdown",
   "metadata": {},
   "source": [
    "<p style=\"text-align: justify;\">Com o dataframe pronto, podemos então utilizar a função <code>barplot</code> da biblioteca <code>Seaborn</code> para plotar um histograma anual de publicações:<p>"
   ]
  },
  {
   "cell_type": "code",
   "execution_count": 15,
   "metadata": {},
   "outputs": [
    {
     "data": {
      "image/png": "[encoded data removed]",
      "text/plain": [
       "<Figure size 1008x504 with 1 Axes>"
      ]
     },
     "metadata": {},
     "output_type": "display_data"
    }
   ],
   "source": [
    "# Configura as fontes dos gráficos\n",
    "SMALL_SIZE = 12\n",
    "MEDIUM_SIZE = 14\n",
    "BIGGER_SIZE = 20\n",
    "\n",
    "plt.rc('font', size=BIGGER_SIZE)         # tamanho da fonte padrão\n",
    "plt.rc('axes', titlesize=SMALL_SIZE)     # tamanho da fonte do título dos eixos\n",
    "plt.rc('axes', labelsize=MEDIUM_SIZE)    # tamanho da fonte dos marcadores dos eixos x e y\n",
    "plt.rc('xtick', labelsize=SMALL_SIZE)    # tamanho da fonte dos marcadores do eixo-x\n",
    "plt.rc('ytick', labelsize=SMALL_SIZE)    # tamanho da fonte dos marcadores do eixo-y\n",
    "plt.rc('legend', fontsize=SMALL_SIZE)    # tamanho da fonte da legenda\n",
    "plt.rc('figure', titlesize=BIGGER_SIZE)  # tamanho da fonte do título da figura\n",
    "\n",
    "# Cria o plot\n",
    "fig, ax = plt.subplots(figsize=(14,7))\n",
    "sns.barplot(ax=ax, x=\"ano_publicacao\", y=\"Count\", data=df_plot, palette=\"Reds_d\")\n",
    "sns.despine(ax=ax)   # Remove os eixos da direita e superior no gráfico\n",
    "plt.xticks(rotation=90)\n",
    "plt.xlabel(\"Ano de publicação\", labelpad=20)\n",
    "plt.ylabel(\"\", labelpad=10) # Remove label do eixo vertical\n",
    "plt.title(\"Número de publicações integrando sensoriamento remoto e áreas de conservação\\nno Brasil por ano, no período de 2000 à 2020\", fontsize=18)\n",
    "ax.annotate(\"Fonte: Base de dados Scopus\", xy=(0.08, 0.82), size=14,  style='italic', xycoords='figure fraction')\n",
    "# Descomente a linha abaixo para salvar a figura\n",
    "plt.savefig('figs/total_publicacoes_ano.png', dpi=96, bbox_inches='tight', pad_inches=0.2);"
   ]
  },
  {
   "cell_type": "markdown",
   "metadata": {},
   "source": [
    "<p style=\"text-align: justify;\">É possível notar que houve um aumento exponencial no número de publicações a partir dos anos 2010-2011; este evento coincide com a liberação de dados gratuitos da série histórica do Landsat, um dos principais satélites utilizados para estudos ambientais, em Janeiro de 2008 pela NASA e USGS. Deste modo, mais instituições no país tiveram a possibilidade de efetuar estudos utilizando esses dados abertos. Em 2015, tivemos o lançamento do Sentinel-2 pela ESA, que aumentou ainda mais a gama de possibilidades de sensores a serem utilizados.<p>"
   ]
  },
  {
   "cell_type": "markdown",
   "metadata": {},
   "source": [
    "## Considerações finais\n",
    "<hr />\n",
    "\n",
    "<p style=\"text-align: justify;\">Através desse notebook nós criamos uma ferramenta para extração de informações sobre artigos contidos na base de dados <b>Scopus</b>. No próximo notebook, nós iremos utilizar essas informações para extrair informações como: Quais as tendências e o crescimento do conhecimento nessa área? Quais as principais revistas que publicam artigos na área de conservação usando sensoriamento remoto? Quais os principais sensores utilizados? Entre outras.</p>"
   ]
  },
  {
   "cell_type": "markdown",
   "metadata": {},
   "source": [
    "<hr />"
   ]
  },
  {
   "cell_type": "markdown",
   "metadata": {},
   "source": [
    "<p style=\"text-align: justify;\"><small><a rel=\"license\" href=\"http://creativecommons.org/licenses/by-sa/4.0/\"><img alt=\"Creative Commons License\" style=\"border-width:0\" src=\"https://i.creativecommons.org/l/by-sa/4.0/88x31.png\" /></a><br/><span xmlns:dct=\"http://purl.org/dc/terms/\" property=\"dct:title\"><i>Estudo bibliométrico: Formação de uma base intelectual</i></span> por Rafael Viana é licenciado sobre a <a rel=\"license\" href=\"http://creativecommons.org/licenses/by-sa/4.0/\">Creative Commons Attribution-ShareAlike 4.0 International License</a>, e disponibilizado em <a xmlns:dct=\"http://purl.org/dc/terms/\" href=\"https://github.com/rafaeloceans/tutorials\" rel=\"dct:source\">https://github.com/rafaeloceans/tutorials</a>.</small></p>"
   ]
  },
  {
   "cell_type": "code",
   "execution_count": null,
   "metadata": {},
   "outputs": [],
   "source": []
  }
 ],
 "metadata": {
  "kernelspec": {
   "display_name": "Python 3",
   "language": "python",
   "name": "python3"
  },
  "language_info": {
   "codemirror_mode": {
    "name": "ipython",
    "version": 3
   },
   "file_extension": ".py",
   "mimetype": "text/x-python",
   "name": "python",
   "nbconvert_exporter": "python",
   "pygments_lexer": "ipython3",
   "version": "3.7.8"
  }
 },
 "nbformat": 4,
 "nbformat_minor": 4
}
